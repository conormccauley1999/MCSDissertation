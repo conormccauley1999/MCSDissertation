{
 "cells": [
  {
   "cell_type": "markdown",
   "id": "1106aa94-fa42-48b4-8216-2af5ec5fd099",
   "metadata": {},
   "source": [
    "# 4.2 Review Polarity"
   ]
  },
  {
   "cell_type": "code",
   "execution_count": 97,
   "id": "b72b65f7-daa5-4050-bb7b-eee08b115654",
   "metadata": {},
   "outputs": [],
   "source": [
    "import nltk\n",
    "import numpy as np\n",
    "import pandas as pd\n",
    "import re\n",
    "from sklearn.feature_extraction.text import TfidfVectorizer\n",
    "from sklearn.linear_model import SGDClassifier\n",
    "from sklearn.metrics import accuracy_score\n",
    "from sklearn.model_selection import cross_val_score, train_test_split\n",
    "from sklearn.naive_bayes import ComplementNB, MultinomialNB"
   ]
  },
  {
   "cell_type": "code",
   "execution_count": 98,
   "id": "9260b788-9f75-4144-8a0c-f82a90a0cd0c",
   "metadata": {},
   "outputs": [
    {
     "name": "stderr",
     "output_type": "stream",
     "text": [
      "[nltk_data] Downloading package stopwords to C:\\Users\\Conor Mac\n",
      "[nltk_data]     Amhlaoibh\\AppData\\Roaming\\nltk_data...\n",
      "[nltk_data]   Package stopwords is already up-to-date!\n"
     ]
    }
   ],
   "source": [
    "nltk.download('stopwords')\n",
    "from nltk.corpus import stopwords\n",
    "languages = [\n",
    "    'arabic', 'azerbaijani', 'bengali', 'danish', 'dutch', 'english',\n",
    "    'finnish', 'french', 'german', 'greek', 'hungarian', 'indonesian',\n",
    "    'italian', 'kazakh', 'nepali', 'norwegian', 'portuguese', 'romanian',\n",
    "    'russian', 'slovene', 'spanish', 'swedish', 'tajik', 'turkish'\n",
    "]\n",
    "english_stopwords = set(stopwords.words('english'))\n",
    "all_stopwords = set()\n",
    "for language in languages:\n",
    "    all_stopwords |= set(stopwords.words(language))"
   ]
  },
  {
   "cell_type": "code",
   "execution_count": 99,
   "id": "02f79ff0-5400-4780-bc1b-774bba01a786",
   "metadata": {},
   "outputs": [],
   "source": [
    "DIR_SAMPLE = '../data/samples/'\n",
    "PATH_REVSENTS = DIR_SAMPLE + 'review_sentiment/%s.csv'"
   ]
  },
  {
   "cell_type": "code",
   "execution_count": 100,
   "id": "68c25b5a-5258-4a2a-a6d6-2a0259cc3e78",
   "metadata": {},
   "outputs": [],
   "source": [
    "def preprocess_text(text, is_english=True):\n",
    "    if is_english:\n",
    "        text = text.lower()\n",
    "        stopword_list = english_stopwords\n",
    "    else:\n",
    "        stopword_list = all_stopwords\n",
    "    text = re.sub(r'[^\\w\\s]', ' ', text, re.UNICODE)\n",
    "    text = ' '.join([\n",
    "        word\n",
    "        for word in text.split()\n",
    "        if word not in stopword_list\n",
    "    ])\n",
    "    text = re.sub(r'\\s+', ' ', text).strip()\n",
    "    return text"
   ]
  },
  {
   "cell_type": "code",
   "execution_count": 101,
   "id": "e58712b2-26a4-42b3-9fe8-07784cf6bc12",
   "metadata": {},
   "outputs": [],
   "source": [
    "def read_data(sample_name, train_size=0.8, seed=None):\n",
    "    df = pd.read_csv(PATH_REVSENTS % sample_name)[['polarity', 'text']].reset_index(drop=True)\n",
    "    if sample_name.startswith('eng'):\n",
    "        df['text'] = df['text'].apply(lambda text: preprocess_text(text, is_english=True))\n",
    "    else:\n",
    "        df['text'] = df['text'].apply(lambda text: preprocess_text(text, is_english=False))\n",
    "    train, validation = train_test_split(df, train_size=train_size, random_state=seed)\n",
    "    return train, validation"
   ]
  },
  {
   "cell_type": "code",
   "execution_count": 102,
   "id": "0ef12654-86d6-47f7-8fd6-465ec182544b",
   "metadata": {},
   "outputs": [],
   "source": [
    "train, validation = read_data('eng_eq_any_100000')\n",
    "Xt, Yt = train['text'].tolist(), train['polarity'].tolist()\n",
    "Xv, Yv = validation['text'].tolist(), validation['polarity'].tolist()"
   ]
  },
  {
   "cell_type": "code",
   "execution_count": 103,
   "id": "d2d6381b-7fac-44bc-81d4-3758628c5f6e",
   "metadata": {},
   "outputs": [],
   "source": [
    "tfidf = TfidfVectorizer(ngram_range=(1, 3), binary=True, smooth_idf=False)\n",
    "Xt_tfidf = tfidf.fit_transform(Xt)\n",
    "Xv_tfidf = tfidf.transform(Xv)"
   ]
  },
  {
   "cell_type": "code",
   "execution_count": 104,
   "id": "48c8cf67-612e-4ec2-81d5-cd02ffe740d4",
   "metadata": {},
   "outputs": [
    {
     "name": "stdout",
     "output_type": "stream",
     "text": [
      "0.8783043859851218\n",
      "0.8880166361078722\n",
      "0.8764477140896604\n"
     ]
    }
   ],
   "source": [
    "alphas = [0.1, 1, 10]\n",
    "for alpha in alphas:\n",
    "    model = MultinomialNB(alpha=alpha)\n",
    "    auc = cross_val_score(model, Xt_tfidf, Yt, scoring='roc_auc', cv=5)\n",
    "    print(auc.mean())"
   ]
  },
  {
   "cell_type": "code",
   "execution_count": 105,
   "id": "50feb11f-c561-4bd3-bcbe-6c36db145062",
   "metadata": {},
   "outputs": [
    {
     "name": "stdout",
     "output_type": "stream",
     "text": [
      "0.80595\n"
     ]
    }
   ],
   "source": [
    "model = MultinomialNB(alpha=1)\n",
    "model.fit(Xt_tfidf, Yt)\n",
    "probs = model.predict_proba(Xv_tfidf)\n",
    "Yp = np.where(probs[:,1] >= 0.5, 1, 0).tolist()\n",
    "print(accuracy_score(Yv, Yp))"
   ]
  },
  {
   "cell_type": "code",
   "execution_count": 106,
   "id": "13640c2c-a041-4566-a6f3-6e749761b705",
   "metadata": {},
   "outputs": [
    {
     "name": "stdout",
     "output_type": "stream",
     "text": [
      "0.80595\n"
     ]
    }
   ],
   "source": [
    "model = ComplementNB(alpha=1)\n",
    "model.fit(Xt_tfidf, Yt)\n",
    "probs = model.predict_proba(Xv_tfidf)\n",
    "Yp = np.where(probs[:,1] >= 0.5, 1, 0).tolist()\n",
    "print(accuracy_score(Yv, Yp))"
   ]
  },
  {
   "cell_type": "code",
   "execution_count": 107,
   "id": "5fe06845-c0bd-4752-a24f-3d4ff3b5ecd8",
   "metadata": {},
   "outputs": [
    {
     "name": "stdout",
     "output_type": "stream",
     "text": [
      "0.80205\n"
     ]
    }
   ],
   "source": [
    "model = SGDClassifier(loss='hinge', penalty='l2', max_iter=20)\n",
    "model.fit(Xt_tfidf, Yt)\n",
    "Yp = model.predict(Xv_tfidf).tolist()\n",
    "print(accuracy_score(Yv, Yp))"
   ]
  }
 ],
 "metadata": {
  "kernelspec": {
   "display_name": "Python 3 (ipykernel)",
   "language": "python",
   "name": "python3"
  },
  "language_info": {
   "codemirror_mode": {
    "name": "ipython",
    "version": 3
   },
   "file_extension": ".py",
   "mimetype": "text/x-python",
   "name": "python",
   "nbconvert_exporter": "python",
   "pygments_lexer": "ipython3",
   "version": "3.7.9"
  }
 },
 "nbformat": 4,
 "nbformat_minor": 5
}
