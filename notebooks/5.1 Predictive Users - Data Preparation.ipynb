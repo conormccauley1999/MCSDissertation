{
 "cells": [
  {
   "cell_type": "markdown",
   "id": "1106aa94-fa42-48b4-8216-2af5ec5fd099",
   "metadata": {},
   "source": [
    "# 5.1 Predictive Users: Date Preparation"
   ]
  },
  {
   "cell_type": "code",
   "execution_count": 1,
   "id": "f78371bf-0317-4477-a024-1b8b3e53259d",
   "metadata": {
    "tags": []
   },
   "outputs": [],
   "source": [
    "from collections import defaultdict as dd\n",
    "from datetime import datetime as dt\n",
    "from sklearn.model_selection import train_test_split\n",
    "import matplotlib.pyplot as plt\n",
    "import pandas as pd\n",
    "import random"
   ]
  },
  {
   "cell_type": "code",
   "execution_count": 2,
   "id": "02f79ff0-5400-4780-bc1b-774bba01a786",
   "metadata": {
    "tags": []
   },
   "outputs": [],
   "source": [
    "DIR_PREP = '../data/prepared/'\n",
    "DIR_SAMPLE = '../data/samples/'\n",
    "PATH_REVIEWS = DIR_PREP + 'reviews/%d.csv'\n",
    "PATH_LANGS = DIR_PREP + 'reviews/languages/%d.csv'\n",
    "PATH_REVUSERS = DIR_SAMPLE + 'review_users/%s.csv'\n",
    "REVIEW_PAGES = 32\n",
    "LANGS_PAGES = 21"
   ]
  },
  {
   "cell_type": "code",
   "execution_count": 3,
   "id": "6b59223b-fae7-4b6f-9ba1-1d94b653a5fc",
   "metadata": {},
   "outputs": [],
   "source": [
    "def load_reviews():\n",
    "    df = pd.concat((\n",
    "        pd.read_csv(PATH_REVIEWS % page_num, header=None)\n",
    "        for page_num in range(1, REVIEW_PAGES + 1)\n",
    "    )).reset_index(drop=True)\n",
    "    df.columns = [\n",
    "        'uid','gid','polarity','ea','pt_forever','pt_review',\n",
    "        'ts_created','ts_updated','votes_up','votes_funny','text'\n",
    "    ]\n",
    "    return df\n",
    "\n",
    "def load_reviews_lang():\n",
    "    df = pd.concat((\n",
    "        pd.concat((\n",
    "            pd.read_csv(PATH_REVIEWS % page_num, header=None),\n",
    "            pd.read_csv(PATH_LANGS % page_num, header=None)\n",
    "        ), axis=1)\n",
    "        for page_num in range(1, LANGS_PAGES + 1)\n",
    "    )).reset_index(drop=True)\n",
    "    df.columns = [\n",
    "        'uid','gid','polarity','ea','pt_forever','pt_review',\n",
    "        'ts_created','ts_updated','votes_up','votes_funny','text',\n",
    "        'lang','confidence','nlp_words','raw_words','raw_chars'\n",
    "    ]\n",
    "    return df"
   ]
  },
  {
   "cell_type": "code",
   "execution_count": 12,
   "id": "0114d4b2-f9b7-433a-8042-62d69d51f944",
   "metadata": {},
   "outputs": [],
   "source": [
    "def filter_reviews(df, is_eng=True, min_game_reviews=50, min_user_reviews=10, min_conf=0.5):\n",
    "    df = df[df['ea'] == 0]\n",
    "    df = df[df['text'] != '(Review text hidden)']\n",
    "    df = df[df['nlp_words'] >= 1]\n",
    "    if is_eng: df = df[(df['lang'] == 'en') & (df['confidence'] >= min_conf)]\n",
    "    df = df[df.groupby('gid')['gid'].transform('size') >= min_game_reviews]\n",
    "    df = df[df.groupby('uid')['uid'].transform('size') >= min_user_reviews]\n",
    "    return df"
   ]
  },
  {
   "cell_type": "code",
   "execution_count": 20,
   "id": "80c5b8eb-6494-4c61-b963-d76a6cbadfb9",
   "metadata": {},
   "outputs": [],
   "source": [
    "def mean_to_class_6(x):\n",
    "    if x < 0.2: return 0\n",
    "    elif x < 0.4: return 1\n",
    "    elif x < 0.7: return 2\n",
    "    elif x < 0.8: return 3\n",
    "    elif x < 0.95: return 4\n",
    "    else: return 5\n",
    "\n",
    "def mean_to_class_3(x):\n",
    "    if x < 0.4: return 0\n",
    "    elif x < 0.7: return 1\n",
    "    else: return 2"
   ]
  },
  {
   "cell_type": "code",
   "execution_count": 21,
   "id": "310584e0-c850-4293-b849-2d266f723cfb",
   "metadata": {},
   "outputs": [],
   "source": [
    "def prepare_data(df, sample_name, num_labels=7, N=100000, train_size=0.8, test_size=0.5, seed=None):\n",
    "    df['gid_mean'] = df.groupby('gid')['polarity'].transform('mean')\n",
    "    class_function = mean_to_class_6 if num_labels == 6 else mean_to_class_3\n",
    "    df['gid_mean_class'] = df['gid_mean'].apply(class_function)\n",
    "    uids = df['uid'].unique().tolist()\n",
    "    random.seed(seed)\n",
    "    random.shuffle(uids)\n",
    "    uids = uids[:int(N / (len(df.index) / len(uids)))]\n",
    "    train_uids, rem_uids = train_test_split(uids, train_size=train_size, random_state=seed)\n",
    "    val_uids, test_uids = train_test_split(rem_uids, test_size=test_size, random_state=seed)\n",
    "    df[df['uid'].isin(train_uids)][\n",
    "        ['uid','gid','gid_mean','gid_mean_class','pt_review','text']].to_csv(\n",
    "        PATH_REVUSERS % f'{sample_name}_{num_labels}_train', index=False)\n",
    "    df[df['uid'].isin(val_uids)][[\n",
    "        'uid','gid','gid_mean','gid_mean_class','pt_review','text']].to_csv(\n",
    "        PATH_REVUSERS % f'{sample_name}_{num_labels}_val', index=False)\n",
    "    df[df['uid'].isin(test_uids)][\n",
    "        ['uid','gid','gid_mean','gid_mean_class','pt_review','text']].to_csv(\n",
    "        PATH_REVUSERS % f'{sample_name}_{num_labels}_test', index=False)"
   ]
  },
  {
   "cell_type": "code",
   "execution_count": 7,
   "id": "fdc9abeb-f09a-4117-a1ff-e7d0f9ca3711",
   "metadata": {},
   "outputs": [],
   "source": [
    "df_lang = load_reviews_lang()"
   ]
  },
  {
   "cell_type": "code",
   "execution_count": 13,
   "id": "ffca3214-d002-4d80-8cd6-4e80ff51d07f",
   "metadata": {},
   "outputs": [],
   "source": [
    "df_eng = filter_reviews(df_lang, is_eng=True)\n",
    "df_neng = filter_reviews(df_lang, is_eng=False)"
   ]
  },
  {
   "cell_type": "code",
   "execution_count": 22,
   "id": "d4547a91-eee6-4470-92f3-96087e120f03",
   "metadata": {},
   "outputs": [],
   "source": [
    "prepare_data(df_eng, 'eng_160k', num_labels=3, N=160000, seed=1337)\n",
    "prepare_data(df_eng, 'eng_160k', num_labels=6, N=160000, seed=1337)\n",
    "prepare_data(df_neng, 'any_160k', num_labels=3, N=160000, seed=1337)\n",
    "prepare_data(df_neng, 'any_160k', num_labels=6, N=160000, seed=1337)"
   ]
  }
 ],
 "metadata": {
  "kernelspec": {
   "display_name": "Python 3 (ipykernel)",
   "language": "python",
   "name": "python3"
  },
  "language_info": {
   "codemirror_mode": {
    "name": "ipython",
    "version": 3
   },
   "file_extension": ".py",
   "mimetype": "text/x-python",
   "name": "python",
   "nbconvert_exporter": "python",
   "pygments_lexer": "ipython3",
   "version": "3.7.9"
  }
 },
 "nbformat": 4,
 "nbformat_minor": 5
}
