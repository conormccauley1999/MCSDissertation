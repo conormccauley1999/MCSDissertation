{
 "cells": [
  {
   "cell_type": "markdown",
   "metadata": {
    "id": "9bkKxbueRhqN"
   },
   "source": [
    "# BERT Review Polarity"
   ]
  },
  {
   "cell_type": "markdown",
   "metadata": {
    "id": "oUfASVs77eqL"
   },
   "source": [
    "## Setup"
   ]
  },
  {
   "cell_type": "code",
   "execution_count": null,
   "metadata": {
    "id": "j4hhJe2XfkP7"
   },
   "outputs": [],
   "source": [
    "!pip install transformers"
   ]
  },
  {
   "cell_type": "code",
   "execution_count": null,
   "metadata": {
    "executionInfo": {
     "elapsed": 7,
     "status": "ok",
     "timestamp": 1647794344331,
     "user": {
      "displayName": "Conor Mac Amhlaoibh",
      "photoUrl": "https://lh3.googleusercontent.com/a-/AOh14GjcKid0uXS4g54xrwj4CVpE-lHwAh9uoDVu6zcdaA=s64",
      "userId": "03538415382823304994"
     },
     "user_tz": 0
    },
    "id": "LuQft7QqRTrl"
   },
   "outputs": [],
   "source": [
    "from google.colab import drive\n",
    "from sklearn.metrics import classification_report\n",
    "from sklearn.model_selection import train_test_split\n",
    "from transformers import DistilBertTokenizerFast\n",
    "from transformers import TFDistilBertForSequenceClassification\n",
    "import numpy as np\n",
    "import pandas as pd\n",
    "import tensorflow as tf"
   ]
  },
  {
   "cell_type": "code",
   "execution_count": null,
   "metadata": {
    "id": "05miZNUI6zDm"
   },
   "outputs": [],
   "source": [
    "tpu = tf.distribute.cluster_resolver.TPUClusterResolver()\n",
    "tf.config.experimental_connect_to_cluster(tpu)\n",
    "tf.tpu.experimental.initialize_tpu_system(tpu)\n",
    "tpu_strategy = tf.distribute.experimental.TPUStrategy(tpu)"
   ]
  },
  {
   "cell_type": "code",
   "execution_count": null,
   "metadata": {
    "colab": {
     "base_uri": "https://localhost:8080/"
    },
    "executionInfo": {
     "elapsed": 2972,
     "status": "ok",
     "timestamp": 1647797004121,
     "user": {
      "displayName": "Conor Mac Amhlaoibh",
      "photoUrl": "https://lh3.googleusercontent.com/a-/AOh14GjcKid0uXS4g54xrwj4CVpE-lHwAh9uoDVu6zcdaA=s64",
      "userId": "03538415382823304994"
     },
     "user_tz": 0
    },
    "id": "xAMDpJh9A3Uf",
    "outputId": "e6eb162c-9b11-40e6-f784-903f3da223aa"
   },
   "outputs": [],
   "source": [
    "PATH_GDRIVE = '/content/drive'\n",
    "drive.mount(PATH_GDRIVE, force_remount=True)"
   ]
  },
  {
   "cell_type": "code",
   "execution_count": null,
   "metadata": {
    "executionInfo": {
     "elapsed": 213,
     "status": "ok",
     "timestamp": 1647796989502,
     "user": {
      "displayName": "Conor Mac Amhlaoibh",
      "photoUrl": "https://lh3.googleusercontent.com/a-/AOh14GjcKid0uXS4g54xrwj4CVpE-lHwAh9uoDVu6zcdaA=s64",
      "userId": "03538415382823304994"
     },
     "user_tz": 0
    },
    "id": "O1CoHYcEBOdp"
   },
   "outputs": [],
   "source": [
    "# paths\n",
    "DIR = 'drive/MyDrive/MSc Dissertation/data/'\n",
    "PATH_SAMPLES = DIR + 'samples/review_polarity/%s.csv'\n",
    "PATH_MODELS = DIR + 'models/review_polarity/%s_%d'\n",
    "PATH_RESULTS = DIR + 'results/review_polarity/%s_%d'\n",
    "# bert models\n",
    "BERT_MODEL_ENG = 'distilbert-base-uncased'\n",
    "BERT_MODEL_NENG = 'distilbert-base-multilingual-cased'"
   ]
  },
  {
   "cell_type": "markdown",
   "metadata": {
    "id": "txQ45JA98VeN"
   },
   "source": [
    "## Data Reading and Writing"
   ]
  },
  {
   "cell_type": "code",
   "execution_count": null,
   "metadata": {
    "executionInfo": {
     "elapsed": 201,
     "status": "ok",
     "timestamp": 1647791799568,
     "user": {
      "displayName": "Conor Mac Amhlaoibh",
      "photoUrl": "https://lh3.googleusercontent.com/a-/AOh14GjcKid0uXS4g54xrwj4CVpE-lHwAh9uoDVu6zcdaA=s64",
      "userId": "03538415382823304994"
     },
     "user_tz": 0
    },
    "id": "5sr4V2DGCuJH"
   },
   "outputs": [],
   "source": [
    "def read_data(sample_name, train_size=0.8, test_size=0.5, seed=None):\n",
    "    df = pd.read_csv(PATH_SAMPLES % sample_name)[['polarity', 'text']].reset_index(drop=True)\n",
    "    train, remaining = train_test_split(df, train_size=train_size, random_state=seed)\n",
    "    validation, test = train_test_split(remaining, test_size=test_size, random_state=seed)\n",
    "    return train, validation, test"
   ]
  },
  {
   "cell_type": "code",
   "execution_count": null,
   "metadata": {
    "executionInfo": {
     "elapsed": 4,
     "status": "ok",
     "timestamp": 1647796964699,
     "user": {
      "displayName": "Conor Mac Amhlaoibh",
      "photoUrl": "https://lh3.googleusercontent.com/a-/AOh14GjcKid0uXS4g54xrwj4CVpE-lHwAh9uoDVu6zcdaA=s64",
      "userId": "03538415382823304994"
     },
     "user_tz": 0
    },
    "id": "PFyPLLMS_J_s"
   },
   "outputs": [],
   "source": [
    "def write_data_train(sample_name, run_num, train_history):\n",
    "    with open((PATH_RESULTS % (sample_name, run_num)) + '_train.txt', 'w+') as f:\n",
    "        f.write(str(train_history.params) + '\\n')\n",
    "        f.write(str(train_history.history) + '\\n')"
   ]
  },
  {
   "cell_type": "code",
   "execution_count": null,
   "metadata": {
    "executionInfo": {
     "elapsed": 220,
     "status": "ok",
     "timestamp": 1647796962065,
     "user": {
      "displayName": "Conor Mac Amhlaoibh",
      "photoUrl": "https://lh3.googleusercontent.com/a-/AOh14GjcKid0uXS4g54xrwj4CVpE-lHwAh9uoDVu6zcdaA=s64",
      "userId": "03538415382823304994"
     },
     "user_tz": 0
    },
    "id": "diQNGrYKGZQm"
   },
   "outputs": [],
   "source": [
    "def write_data_test(sample_name, run_num, Y_test, Y_pred):\n",
    "    with open((PATH_RESULTS % (sample_name, run_num)) + '_test.txt', 'w+') as f:\n",
    "        f.write(str(Y_test) + '\\n')\n",
    "        f.write(str(Y_pred) + '\\n')"
   ]
  },
  {
   "cell_type": "markdown",
   "metadata": {
    "id": "7aTEMj-B8iLV"
   },
   "source": [
    "## Model Training and Testing\n"
   ]
  },
  {
   "cell_type": "code",
   "execution_count": null,
   "metadata": {
    "executionInfo": {
     "elapsed": 190,
     "status": "ok",
     "timestamp": 1647796966961,
     "user": {
      "displayName": "Conor Mac Amhlaoibh",
      "photoUrl": "https://lh3.googleusercontent.com/a-/AOh14GjcKid0uXS4g54xrwj4CVpE-lHwAh9uoDVu6zcdaA=s64",
      "userId": "03538415382823304994"
     },
     "user_tz": 0
    },
    "id": "Y7RS9_G8FPcm"
   },
   "outputs": [],
   "source": [
    "def train_model(sample_name, train_data, validation_data, run_num=0, num_epochs=2, batch_size=16, learning_rate=5e-5, seed=None):\n",
    "    with tpu_strategy.scope():\n",
    "        # load pre-trained stuff\n",
    "        if sample_name.startswith('eng'): model_name = BERT_MODEL_ENG\n",
    "        else: model_name = BERT_MODEL_NENG\n",
    "        tokenizer = DistilBertTokenizerFast.from_pretrained(model_name)\n",
    "        classifier = TFDistilBertForSequenceClassification.from_pretrained(model_name, num_labels=2)\n",
    "        # separate data\n",
    "        Xt, Yt = train_data['text'].tolist(), train_data['polarity'].tolist()\n",
    "        Xv, Yv = validation_data['text'].tolist(), validation_data['polarity'].tolist()\n",
    "        # encode and format data\n",
    "        encode = lambda x: tokenizer(x, truncation=True, padding=True, return_tensors='tf')\n",
    "        format = lambda x, y: tf.data.Dataset.from_tensor_slices((dict(x), y)).shuffle(100, seed=seed)\n",
    "        train_data = format(encode(Xt), Yt)\n",
    "        validation_data = format(encode(Xv), Yv)\n",
    "        # train and save the model\n",
    "        optimizer = tf.keras.optimizers.Adam(learning_rate=learning_rate, epsilon=1e-8)\n",
    "        loss = tf.keras.losses.SparseCategoricalCrossentropy(from_logits=True)\n",
    "        classifier.compile(optimizer=optimizer, loss=loss, metrics=['accuracy'])\n",
    "    fit_results = classifier.fit(\n",
    "        train_data.batch(batch_size),\n",
    "        epochs=num_epochs,\n",
    "        batch_size=batch_size,\n",
    "        validation_data=validation_data.batch(batch_size)\n",
    "    )\n",
    "    classifier.save_pretrained(PATH_MODELS % (sample_name, run_num))\n",
    "    write_data_train(sample_name, run_num, fit_results)"
   ]
  },
  {
   "cell_type": "code",
   "execution_count": null,
   "metadata": {
    "executionInfo": {
     "elapsed": 235,
     "status": "ok",
     "timestamp": 1647796969431,
     "user": {
      "displayName": "Conor Mac Amhlaoibh",
      "photoUrl": "https://lh3.googleusercontent.com/a-/AOh14GjcKid0uXS4g54xrwj4CVpE-lHwAh9uoDVu6zcdaA=s64",
      "userId": "03538415382823304994"
     },
     "user_tz": 0
    },
    "id": "6tYJBHi0DeSy"
   },
   "outputs": [],
   "source": [
    "def test_model(sample_name, test_data, run_num=0, batch_size=16, seed=None):\n",
    "    with tpu_strategy.scope():\n",
    "        # load pre-trained stuff\n",
    "        if sample_name.startswith('eng'): model_name = BERT_MODEL_ENG\n",
    "        else: model_name = BERT_MODEL_NENG\n",
    "        tokenizer = DistilBertTokenizerFast.from_pretrained(model_name)\n",
    "        classifier = TFDistilBertForSequenceClassification.from_pretrained(PATH_MODELS % (sample_name, run_num), num_labels=2)\n",
    "        # separate data\n",
    "        Xt, Yt = test_data['text'].tolist(), test_data['polarity'].tolist()\n",
    "        # encode, format and convert data\n",
    "        encode = lambda x: tokenizer(x, truncation=True, padding=True, return_tensors='tf')\n",
    "        format = lambda x: tf.data.Dataset.from_tensor_slices(dict(x))\n",
    "        convert = lambda y: tf.argmax(tf.nn.softmax(y.logits, axis=1), axis=1).numpy()[::8]\n",
    "        Xt = format(encode(Xt))\n",
    "        Yp = convert(classifier.predict(Xt)).tolist()\n",
    "    write_data_test(sample_name, run_num, Yt, Yp)"
   ]
  },
  {
   "cell_type": "markdown",
   "metadata": {
    "id": "UxbYqpXg8qku"
   },
   "source": [
    "## Running Everything"
   ]
  },
  {
   "cell_type": "code",
   "execution_count": null,
   "metadata": {
    "executionInfo": {
     "elapsed": 1415,
     "status": "ok",
     "timestamp": 1647799572634,
     "user": {
      "displayName": "Conor Mac Amhlaoibh",
      "photoUrl": "https://lh3.googleusercontent.com/a-/AOh14GjcKid0uXS4g54xrwj4CVpE-lHwAh9uoDVu6zcdaA=s64",
      "userId": "03538415382823304994"
     },
     "user_tz": 0
    },
    "id": "G2zqYmm-YYaR"
   },
   "outputs": [],
   "source": [
    "batch_sizes = [16, 32, 64]\n",
    "num_epochs = [2, 3, 4]\n",
    "run_num = 0\n",
    "sample_name = 'eng_eq_any_100000'\n",
    "seed = 1337\n",
    "train, validation, test = read_data(sample_name, seed=seed)"
   ]
  },
  {
   "cell_type": "code",
   "execution_count": null,
   "metadata": {
    "id": "WKF6340cPAro"
   },
   "outputs": [],
   "source": [
    "for batch_size in batch_sizes:\n",
    "    for num_epoch in num_epochs:\n",
    "        print(f'=== RUN_NUM={run_num} ===')\n",
    "        train_model(sample_name, train, validation, run_num=run_num, seed=seed, batch_size=batch_size, num_epochs=num_epoch)\n",
    "        test_model(sample_name, test, run_num=run_num, seed=seed, batch_size=batch_size)\n",
    "        run_num += 1"
   ]
  },
  {
   "cell_type": "code",
   "execution_count": null,
   "metadata": {
    "executionInfo": {
     "elapsed": 246,
     "status": "ok",
     "timestamp": 1647808662018,
     "user": {
      "displayName": "Conor Mac Amhlaoibh",
      "photoUrl": "https://lh3.googleusercontent.com/a-/AOh14GjcKid0uXS4g54xrwj4CVpE-lHwAh9uoDVu6zcdaA=s64",
      "userId": "03538415382823304994"
     },
     "user_tz": 0
    },
    "id": "aIPgaTbrDQW5"
   },
   "outputs": [],
   "source": [
    "sample_names = [\n",
    "    'eng_any_any_100000', 'eng_any_long_100000', 'eng_any_short_100000',\n",
    "    'eng_eq_any_100000', 'eng_eq_long_100000', 'eng_eq_short_100000',\n",
    "    'any_any_any_100000', 'any_any_long_100000', 'any_any_short_100000',\n",
    "    'any_eq_any_100000', 'any_eq_long_100000', 'any_eq_short_100000',\n",
    "]\n",
    "seed=1337"
   ]
  },
  {
   "cell_type": "code",
   "execution_count": null,
   "metadata": {
    "colab": {
     "base_uri": "https://localhost:8080/"
    },
    "executionInfo": {
     "elapsed": 7877752,
     "status": "ok",
     "timestamp": 1647817312118,
     "user": {
      "displayName": "Conor Mac Amhlaoibh",
      "photoUrl": "https://lh3.googleusercontent.com/a-/AOh14GjcKid0uXS4g54xrwj4CVpE-lHwAh9uoDVu6zcdaA=s64",
      "userId": "03538415382823304994"
     },
     "user_tz": 0
    },
    "id": "LYCcqXG1gjgA",
    "outputId": "6508eb68-36b0-4f4d-d093-9fc3d8b39575"
   },
   "outputs": [],
   "source": [
    "for sample_name in sample_names:\n",
    "    train, validation, test = read_data(sample_name, seed=seed)\n",
    "    train_model(sample_name, train, validation, run_num=10, batch_size=32, seed=seed)"
   ]
  },
  {
   "cell_type": "code",
   "execution_count": null,
   "metadata": {
    "colab": {
     "base_uri": "https://localhost:8080/"
    },
    "executionInfo": {
     "elapsed": 1637223,
     "status": "ok",
     "timestamp": 1647818955564,
     "user": {
      "displayName": "Conor Mac Amhlaoibh",
      "photoUrl": "https://lh3.googleusercontent.com/a-/AOh14GjcKid0uXS4g54xrwj4CVpE-lHwAh9uoDVu6zcdaA=s64",
      "userId": "03538415382823304994"
     },
     "user_tz": 0
    },
    "id": "skpiHf66DTU5",
    "outputId": "762c6113-3abc-4a0b-c0ff-a08e4460241b"
   },
   "outputs": [],
   "source": [
    "for sample_name in sample_names:\n",
    "    _, _, test = read_data(sample_name, seed=seed)\n",
    "    test_model(sample_name, test, run_num=10, batch_size=32, seed=seed)"
   ]
  }
 ],
 "metadata": {
  "accelerator": "TPU",
  "colab": {
   "collapsed_sections": [],
   "name": "BERT Review Polarity.ipynb",
   "provenance": [
    {
     "file_id": "https://github.com/conormccauley1999/MScDissertation/blob/main/notebooks/BERTReviewSentiment.ipynb",
     "timestamp": 1642123997565
    }
   ]
  },
  "interpreter": {
   "hash": "c033a5045b155981ee72213b5a792ae49fdd09af88109a854dac011f87e13240"
  },
  "kernelspec": {
   "display_name": "Python 3 (ipykernel)",
   "language": "python",
   "name": "python3"
  },
  "language_info": {
   "codemirror_mode": {
    "name": "ipython",
    "version": 3
   },
   "file_extension": ".py",
   "mimetype": "text/x-python",
   "name": "python",
   "nbconvert_exporter": "python",
   "pygments_lexer": "ipython3",
   "version": "3.7.9"
  }
 },
 "nbformat": 4,
 "nbformat_minor": 4
}
