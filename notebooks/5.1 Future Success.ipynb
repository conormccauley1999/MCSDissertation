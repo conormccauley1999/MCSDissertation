{
 "cells": [
  {
   "cell_type": "markdown",
   "id": "1106aa94-fa42-48b4-8216-2af5ec5fd099",
   "metadata": {},
   "source": [
    "# 5.1 Future Success"
   ]
  },
  {
   "cell_type": "code",
   "execution_count": 1,
   "id": "f78371bf-0317-4477-a024-1b8b3e53259d",
   "metadata": {
    "tags": []
   },
   "outputs": [],
   "source": [
    "from collections import defaultdict as dd\n",
    "from datetime import datetime as dt\n",
    "from sklearn.model_selection import train_test_split\n",
    "import matplotlib.pyplot as plt\n",
    "import pandas as pd\n",
    "import random"
   ]
  },
  {
   "cell_type": "code",
   "execution_count": 2,
   "id": "02f79ff0-5400-4780-bc1b-774bba01a786",
   "metadata": {
    "tags": []
   },
   "outputs": [],
   "source": [
    "DIR_PREP = '../data/prepared/'\n",
    "DIR_SAMPLE = '../data/samples/'\n",
    "PATH_REVIEWS = DIR_PREP + 'reviews/%d.csv'\n",
    "PATH_LANGS = DIR_PREP + 'reviews/languages/%d.csv'\n",
    "PATH_REVUSERS = DIR_SAMPLE + 'review_users/%s.csv'\n",
    "REVIEW_PAGES = 32\n",
    "LANGS_PAGES = 21"
   ]
  },
  {
   "cell_type": "code",
   "execution_count": 3,
   "id": "6b59223b-fae7-4b6f-9ba1-1d94b653a5fc",
   "metadata": {},
   "outputs": [],
   "source": [
    "def load_reviews():\n",
    "    df = pd.concat((\n",
    "        pd.read_csv(PATH_REVIEWS % page_num, header=None)\n",
    "        for page_num in range(1, REVIEW_PAGES + 1)\n",
    "    )).reset_index(drop=True)\n",
    "    df.columns = [\n",
    "        'uid','gid','polarity','ea','pt_forever','pt_review',\n",
    "        'ts_created','ts_updated','votes_up','votes_funny','text'\n",
    "    ]\n",
    "    return df\n",
    "\n",
    "def load_reviews_lang():\n",
    "    df = pd.concat((\n",
    "        pd.concat((\n",
    "            pd.read_csv(PATH_REVIEWS % page_num, header=None),\n",
    "            pd.read_csv(PATH_LANGS % page_num, header=None)\n",
    "        ), axis=1)\n",
    "        for page_num in range(1, LANGS_PAGES + 1)\n",
    "    )).reset_index(drop=True)\n",
    "    df.columns = [\n",
    "        'uid','gid','polarity','ea','pt_forever','pt_review',\n",
    "        'ts_created','ts_updated','votes_up','votes_funny','text',\n",
    "        'lang','confidence','nlp_words','raw_words','raw_chars'\n",
    "    ]\n",
    "    return df"
   ]
  },
  {
   "cell_type": "code",
   "execution_count": 12,
   "id": "0114d4b2-f9b7-433a-8042-62d69d51f944",
   "metadata": {},
   "outputs": [],
   "source": [
    "def filter_reviews(df, is_eng=True, min_game_reviews=50, min_user_reviews=10, min_conf=0.5):\n",
    "    df = df[df['ea'] == 0]\n",
    "    df = df[df['text'] != '(Review text hidden)']\n",
    "    df = df[df['nlp_words'] >= 1]\n",
    "    if is_eng: df = df[(df['lang'] == 'en') & (df['confidence'] >= min_conf)]\n",
    "    df = df[df.groupby('gid')['gid'].transform('size') >= min_game_reviews]\n",
    "    df = df[df.groupby('uid')['uid'].transform('size') >= min_user_reviews]\n",
    "    return df"
   ]
  },
  {
   "cell_type": "code",
   "execution_count": 20,
   "id": "80c5b8eb-6494-4c61-b963-d76a6cbadfb9",
   "metadata": {},
   "outputs": [],
   "source": [
    "def mean_to_class_6(x):\n",
    "    if x < 0.2: return 0\n",
    "    elif x < 0.4: return 1\n",
    "    elif x < 0.7: return 2\n",
    "    elif x < 0.8: return 3\n",
    "    elif x < 0.95: return 4\n",
    "    else: return 5\n",
    "\n",
    "def mean_to_class_3(x):\n",
    "    if x < 0.4: return 0\n",
    "    elif x < 0.7: return 1\n",
    "    else: return 2"
   ]
  },
  {
   "cell_type": "code",
   "execution_count": 21,
   "id": "310584e0-c850-4293-b849-2d266f723cfb",
   "metadata": {},
   "outputs": [],
   "source": [
    "def prepare_data(df, sample_name, num_labels=7, N=100000, train_size=0.8, test_size=0.5, seed=None):\n",
    "    df['gid_mean'] = df.groupby('gid')['polarity'].transform('mean')\n",
    "    class_function = mean_to_class_6 if num_labels == 6 else mean_to_class_3\n",
    "    df['gid_mean_class'] = df['gid_mean'].apply(class_function)\n",
    "    uids = df['uid'].unique().tolist()\n",
    "    random.seed(seed)\n",
    "    random.shuffle(uids)\n",
    "    uids = uids[:int(N / (len(df.index) / len(uids)))]\n",
    "    train_uids, rem_uids = train_test_split(uids, train_size=train_size, random_state=seed)\n",
    "    val_uids, test_uids = train_test_split(rem_uids, test_size=test_size, random_state=seed)\n",
    "    df[df['uid'].isin(train_uids)][\n",
    "        ['uid','gid','gid_mean','gid_mean_class','pt_review','text']].to_csv(\n",
    "        PATH_REVUSERS % f'{sample_name}_{num_labels}_train', index=False)\n",
    "    df[df['uid'].isin(val_uids)][[\n",
    "        'uid','gid','gid_mean','gid_mean_class','pt_review','text']].to_csv(\n",
    "        PATH_REVUSERS % f'{sample_name}_{num_labels}_val', index=False)\n",
    "    df[df['uid'].isin(test_uids)][\n",
    "        ['uid','gid','gid_mean','gid_mean_class','pt_review','text']].to_csv(\n",
    "        PATH_REVUSERS % f'{sample_name}_{num_labels}_test', index=False)"
   ]
  },
  {
   "cell_type": "code",
   "execution_count": 7,
   "id": "fdc9abeb-f09a-4117-a1ff-e7d0f9ca3711",
   "metadata": {},
   "outputs": [],
   "source": [
    "df_lang = load_reviews_lang()"
   ]
  },
  {
   "cell_type": "code",
   "execution_count": 13,
   "id": "ffca3214-d002-4d80-8cd6-4e80ff51d07f",
   "metadata": {},
   "outputs": [],
   "source": [
    "df_eng = filter_reviews(df_lang, is_eng=True)\n",
    "df_neng = filter_reviews(df_lang, is_eng=False)"
   ]
  },
  {
   "cell_type": "code",
   "execution_count": 22,
   "id": "d4547a91-eee6-4470-92f3-96087e120f03",
   "metadata": {},
   "outputs": [],
   "source": [
    "prepare_data(df_eng, 'eng_160k', num_labels=3, N=160000, seed=1337)\n",
    "prepare_data(df_eng, 'eng_160k', num_labels=6, N=160000, seed=1337)\n",
    "prepare_data(df_neng, 'any_160k', num_labels=3, N=160000, seed=1337)\n",
    "prepare_data(df_neng, 'any_160k', num_labels=6, N=160000, seed=1337)"
   ]
  },
  {
   "cell_type": "markdown",
   "id": "2cd76f55-60ee-4b11-b04d-5c41f305524c",
   "metadata": {},
   "source": [
    "## Other Stuff"
   ]
  },
  {
   "cell_type": "code",
   "execution_count": 8,
   "id": "462ddf5a-0ac8-465f-89c3-b94329398ec0",
   "metadata": {},
   "outputs": [],
   "source": [
    "def set_months_after_release(df):\n",
    "    month_seconds = 30 * 24 * 60 * 60\n",
    "    df['gid_ts_min'] = df.groupby('gid')['ts_created'].transform('min')\n",
    "    df['gid_months_after'] = 1 + ((df['ts_created'] - df['gid_ts_min']) // month_seconds)\n",
    "    return df"
   ]
  },
  {
   "cell_type": "code",
   "execution_count": 9,
   "id": "241b60cd-6833-41d5-8b42-7a32c789ff7c",
   "metadata": {},
   "outputs": [],
   "source": [
    "df_filt = set_months_after_release(df_filt)"
   ]
  },
  {
   "cell_type": "code",
   "execution_count": 12,
   "id": "f0e222d8-119a-4e97-ab15-842c66ae814c",
   "metadata": {},
   "outputs": [],
   "source": [
    "df_filt = df_filt[df_filt['gid_months_after'] <= 12]"
   ]
  },
  {
   "cell_type": "code",
   "execution_count": 58,
   "id": "b4a80491-b8a7-4fa7-a30b-7a5f260aac1e",
   "metadata": {},
   "outputs": [],
   "source": [
    "df_counts = df_filt.groupby(['gid', 'gid_months_after', 'polarity']).agg(['count']).reset_index().values[:,:4].tolist()"
   ]
  },
  {
   "cell_type": "code",
   "execution_count": 65,
   "id": "8556e127-c8e1-4736-9d16-00094f805a45",
   "metadata": {},
   "outputs": [],
   "source": [
    "gid_counts = {}\n",
    "N = len(df_counts)\n",
    "for i in range(N):\n",
    "    g, m, p, c = df_counts[i]\n",
    "    if g not in gid_counts:\n",
    "        cnts = []\n",
    "        for _ in range(12): cnts.append([0, 0])\n",
    "        gid_counts[g] = cnts\n",
    "    gid_counts[g][m - 1][p] += c"
   ]
  },
  {
   "cell_type": "code",
   "execution_count": 116,
   "id": "67ada292-19e3-4e5e-8410-6b2d5bb4ee35",
   "metadata": {},
   "outputs": [
    {
     "data": {
      "image/png": "[encoded data removed]",
      "text/plain": [
       "<Figure size 432x288 with 1 Axes>"
      ]
     },
     "metadata": {
      "needs_background": "light"
     },
     "output_type": "display_data"
    }
   ],
   "source": [
    "t=0\n",
    "for gid, mcs in gid_counts.items():\n",
    "    if all(sum(x) >= 10 for x in mcs):\n",
    "        rs = [round(p/(n+p),2) for (n,p) in mcs]\n",
    "        css = [[*mcs[0]]]\n",
    "        for i in range(1, 12):\n",
    "            css.append([css[-1][0] + mcs[i][0], css[-1][1] + mcs[i][1]])\n",
    "        #rs = [round(p/(n+p),2) for (n,p) in css]\n",
    "        #rs = [n+p for (n,p) in mcs]\n",
    "        for i in range(1, 12): rs[i] -= rs[0]\n",
    "        rs[0] = 0\n",
    "        plt.plot(list(range(12)),rs)\n",
    "        t+=1\n",
    "        if t>=10: break\n",
    "plt.show()"
   ]
  },
  {
   "cell_type": "code",
   "execution_count": null,
   "id": "ab880155-686e-4fb5-959d-e33c52246535",
   "metadata": {},
   "outputs": [],
   "source": [
    "# predicting change in rating\n",
    "# >x% increase , >x% decrease, neither"
   ]
  },
  {
   "cell_type": "code",
   "execution_count": 127,
   "id": "5ca6fd4c-079d-4c75-bf86-c51ad2303dc1",
   "metadata": {},
   "outputs": [],
   "source": [
    "df_filt['ts_datetime'] = df_filt['ts_created'].apply(dt.fromtimestamp)\n",
    "df_filt['ts_year'] = df_filt['ts_datetime'].apply(lambda x: x.year)\n",
    "df_filt['ts_month'] = df_filt['ts_datetime'].apply(lambda x: x.month)"
   ]
  },
  {
   "cell_type": "code",
   "execution_count": 129,
   "id": "5c3d439f-8c66-4f0a-a4c7-93e5e2d993a0",
   "metadata": {},
   "outputs": [],
   "source": [
    "df_filt = df_filt[['gid', 'ts_datetime', 'polarity']]\n",
    "values = df_filt.values\n",
    "N = len(values)"
   ]
  },
  {
   "cell_type": "code",
   "execution_count": 162,
   "id": "e93a4619-ed3a-4e65-ae97-4f2746f43a5d",
   "metadata": {},
   "outputs": [],
   "source": [
    "def select_first_months(df, max_months=12, min_monthly_revs=5):\n",
    "    month_seconds = 30 * 24 * 60 * 60\n",
    "    values = sorted(df[['gid', 'ts_created', 'polarity']].values.tolist())\n",
    "    cur_gid, min_ts = -1, 0\n",
    "    gid_counts = {}\n",
    "    i, N = 0, len(values)\n",
    "    while i < N:\n",
    "        gid, ts, p = values[i]\n",
    "        if gid != cur_gid:\n",
    "            if cur_gid != -1:\n",
    "                all_months_good = all(\n",
    "                    sum(gid_counts[cur_gid][j]) >= min_monthly_revs\n",
    "                    for j in range(max_months)\n",
    "                )\n",
    "                if not all_months_good:\n",
    "                    del gid_counts[cur_gid]\n",
    "            cur_gid = gid\n",
    "            min_ts = ts\n",
    "            counts = []\n",
    "            for _ in range(max_months):\n",
    "                counts.append([0, 0])\n",
    "            gid_counts[gid] = counts\n",
    "        num_months = (ts - min_ts) // month_seconds\n",
    "        if num_months >= max_months:\n",
    "            while cur_gid == values[i]:\n",
    "                i += 1\n",
    "        else:\n",
    "            gid_counts[gid][num_months][p] += 1\n",
    "            i += 1\n",
    "    return gid_counts"
   ]
  },
  {
   "cell_type": "code",
   "execution_count": null,
   "id": "0b1bf578-03a2-495f-99b5-8978af2072b4",
   "metadata": {},
   "outputs": [],
   "source": [
    "print(0)"
   ]
  },
  {
   "cell_type": "code",
   "execution_count": 69,
   "id": "7dc342b3-f6e0-4e6a-a56b-e55c79e37c9c",
   "metadata": {},
   "outputs": [],
   "source": [
    "grouped = dd(lambda: dd(lambda: [0, 0]))\n",
    "for i in range(N):\n",
    "    gid, y, m, p = values[i]\n",
    "    grouped[gid][(y, m)][p] += 1"
   ]
  },
  {
   "cell_type": "code",
   "execution_count": 93,
   "id": "e75e94dc-6fb1-417f-96cf-1f0279e31112",
   "metadata": {},
   "outputs": [],
   "source": [
    "diffs = dd(list)\n",
    "for gid, dates in grouped.items():\n",
    "    cur_y, cur_m = min(dates.keys())\n",
    "    max_y, max_m = max(dates.keys())\n",
    "    monthly, average = [], []\n",
    "    while cur_y < max_y or (cur_y == max_y and cur_m <= max_m):\n",
    "        key = (cur_y, cur_m)\n",
    "        if key not in dates:\n",
    "            monthly.append([0, 0])\n",
    "            average.append(average[-1])\n",
    "        else:\n",
    "            cnt_n, cnt_p = dates[key]\n",
    "            monthly.append([cnt_n, cnt_p])\n",
    "            if len(average) == 0: average.append([cnt_n, cnt_p])\n",
    "            else: average.append([cnt_n + average[-1][0], cnt_p + average[-1][1]])\n",
    "        cur_m += 1\n",
    "        if cur_m > 12:\n",
    "            cur_m = 1\n",
    "            cur_y += 1\n",
    "    running_rating = [p/(p+n) for n, p in average]\n",
    "    monthly_rating = [0 if (p+n)==0 else p/(p+n) for n, p in monthly]\n",
    "    #X = list(range(len(running_rating)))\n",
    "    #plt.plot(X, running_rating)\n",
    "    #plt.plot(X, monthly_rating)\n",
    "    #plt.ylim([0.7, 0.85])\n",
    "    #plt.show()\n",
    "    for i in range(1, len(running_rating)):\n",
    "        diffs[i].append(running_rating[i] - running_rating[0])"
   ]
  },
  {
   "cell_type": "code",
   "execution_count": 102,
   "id": "885e99d0-bce7-417a-b68e-4793ca17d7fb",
   "metadata": {},
   "outputs": [],
   "source": [
    "np_diffs = [[0]]\n",
    "for i in diffs.keys():\n",
    "    np_diffs.append(diffs[i])\n",
    "np_diffs = np.array(np_diffs)"
   ]
  },
  {
   "cell_type": "code",
   "execution_count": 123,
   "id": "e7bcec94-dc41-4982-8e44-8e901d196951",
   "metadata": {},
   "outputs": [],
   "source": [
    "X = list(range(len(np_diffs)))\n",
    "Y_means = [np.mean(x) for x in np_diffs]\n",
    "Y_std = [np.var(x) for x in np_diffs]\n",
    "Y_counts = [len(x) for x in np_diffs]"
   ]
  },
  {
   "cell_type": "code",
   "execution_count": 124,
   "id": "259564cd-8562-4cb1-a3ae-37fe8853a1a1",
   "metadata": {},
   "outputs": [
    {
     "data": {
      "image/png": "[encoded data removed]",
      "text/plain": [
       "<Figure size 432x288 with 1 Axes>"
      ]
     },
     "metadata": {
      "needs_background": "light"
     },
     "output_type": "display_data"
    }
   ],
   "source": [
    "plt.plot(X, Y_means)\n",
    "plt.show()"
   ]
  },
  {
   "cell_type": "code",
   "execution_count": 114,
   "id": "417d610a-00b1-42c4-800d-8e8302db2797",
   "metadata": {},
   "outputs": [
    {
     "data": {
      "image/png": "[encoded data removed]",
      "text/plain": [
       "<Figure size 432x288 with 1 Axes>"
      ]
     },
     "metadata": {
      "needs_background": "light"
     },
     "output_type": "display_data"
    }
   ],
   "source": [
    "plt.plot(X, Y_counts)\n",
    "plt.show()"
   ]
  }
 ],
 "metadata": {
  "kernelspec": {
   "display_name": "Python 3 (ipykernel)",
   "language": "python",
   "name": "python3"
  },
  "language_info": {
   "codemirror_mode": {
    "name": "ipython",
    "version": 3
   },
   "file_extension": ".py",
   "mimetype": "text/x-python",
   "name": "python",
   "nbconvert_exporter": "python",
   "pygments_lexer": "ipython3",
   "version": "3.7.9"
  }
 },
 "nbformat": 4,
 "nbformat_minor": 5
}
