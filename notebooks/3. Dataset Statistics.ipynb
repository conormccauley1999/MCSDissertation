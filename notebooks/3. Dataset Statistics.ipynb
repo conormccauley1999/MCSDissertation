{
 "cells": [
  {
   "cell_type": "markdown",
   "id": "c9cee7ae-38ee-41fc-b0aa-cdacd026b7c8",
   "metadata": {},
   "source": [
    "# 3. Dataset Statistics\n",
    "\n",
    "Code used to gather dataset statistics and generate plots."
   ]
  },
  {
   "cell_type": "markdown",
   "id": "1bb348f5-7fa1-418d-987b-dd786317adac",
   "metadata": {
    "tags": []
   },
   "source": [
    "## Loading Data"
   ]
  },
  {
   "cell_type": "markdown",
   "id": "c93bc956-c3b4-4e80-a22b-63c66d8b7f9b",
   "metadata": {
    "jp-MarkdownHeadingCollapsed": true,
    "tags": []
   },
   "source": [
    "### Setup"
   ]
  },
  {
   "cell_type": "code",
   "execution_count": 4,
   "id": "2b02ea1d-606f-4416-b967-53bc04df8c2d",
   "metadata": {
    "tags": []
   },
   "outputs": [],
   "source": [
    "from collections import defaultdict as dd\n",
    "from csv import reader as csv_reader\n",
    "from datetime import datetime as dt\n",
    "from enum import Enum\n",
    "from iso639 import languages\n",
    "import pandas as pd"
   ]
  },
  {
   "cell_type": "code",
   "execution_count": 5,
   "id": "21f5e8e5-88d9-4656-901c-3e026fd23789",
   "metadata": {
    "tags": []
   },
   "outputs": [],
   "source": [
    "DIR = '../data/prepared/'\n",
    "PATH_FRIENDS = DIR + 'friends.csv'\n",
    "PATH_GROUPS  = DIR + 'groups.csv'\n",
    "PATH_REVIEWS = DIR + 'reviews/%d.csv'\n",
    "PATH_LANGS   = DIR + 'reviews/languages/%d.csv'\n",
    "REVIEW_PAGES = 32\n",
    "LANGS_PAGES  = 21"
   ]
  },
  {
   "cell_type": "markdown",
   "id": "03e37e2d-0899-4f9b-a1ef-66036bd4b330",
   "metadata": {
    "jp-MarkdownHeadingCollapsed": true,
    "tags": []
   },
   "source": [
    "### Friend Data"
   ]
  },
  {
   "cell_type": "code",
   "execution_count": 6,
   "id": "b64d1d1b-75b9-44de-95b8-9d3f4b82a3c0",
   "metadata": {
    "tags": []
   },
   "outputs": [],
   "source": [
    "def load_friend_data():\n",
    "    friend_graph = dd(set)\n",
    "    with open(PATH_FRIENDS, 'r', encoding='utf-8', newline='') as f:\n",
    "        reader = csv_reader(f, delimiter=',')\n",
    "        for row in reader:\n",
    "            user = int(row[0])\n",
    "            friends = list(map(int, row[1:]))\n",
    "            for friend in friends:\n",
    "                friend_graph[user].add(friend)\n",
    "                friend_graph[friend].add(user)\n",
    "    return friend_graph"
   ]
  },
  {
   "cell_type": "markdown",
   "id": "30e1e00e-f1ed-4446-a693-1e715a6a0986",
   "metadata": {
    "jp-MarkdownHeadingCollapsed": true,
    "tags": []
   },
   "source": [
    "### Group Data"
   ]
  },
  {
   "cell_type": "code",
   "execution_count": 7,
   "id": "2e6490f1-c0e7-4929-aab1-7e2c80e0e4b6",
   "metadata": {
    "tags": []
   },
   "outputs": [],
   "source": [
    "def load_group_data():\n",
    "    group_users = dd(set)\n",
    "    user_groups = dd(set)\n",
    "    with open(PATH_GROUPS, 'r', encoding='utf-8', newline='') as f:\n",
    "        reader = csv_reader(f, delimiter=',')\n",
    "        for row in reader:\n",
    "            user = int(row[0])\n",
    "            groups = list(map(int, row[1:]))\n",
    "            for group in groups:\n",
    "                user_groups[user].add(group)\n",
    "                group_users[group].add(user)\n",
    "    return group_users, user_groups"
   ]
  },
  {
   "cell_type": "markdown",
   "id": "998e2eca-6d11-4380-80f2-852fabc1f272",
   "metadata": {
    "jp-MarkdownHeadingCollapsed": true,
    "tags": []
   },
   "source": [
    "### Review Data"
   ]
  },
  {
   "cell_type": "markdown",
   "id": "c1fd0758-9a58-4fa0-8abe-a1a6ac9ae526",
   "metadata": {
    "tags": []
   },
   "source": [
    "#### General Data"
   ]
  },
  {
   "cell_type": "code",
   "execution_count": 8,
   "id": "e18008b9-f5c4-403c-8d16-f3ccb89bbc1c",
   "metadata": {
    "tags": []
   },
   "outputs": [],
   "source": [
    "class ReviewData(Enum):\n",
    "    UserReviews = 0\n",
    "    UserPolarities = 1\n",
    "    GameReviews = 2\n",
    "    Counts = 3\n",
    "    ReviewDates = 4\n",
    "    ReviewPlaytimes = 5\n",
    "    ReviewVotes = 6\n",
    "\n",
    "def load_review_data(review_data):\n",
    "    user_reviews = dd(int)\n",
    "    user_polarities = dd(lambda: [0, 0])\n",
    "    game_reviews = dd(int)\n",
    "    counts = {\n",
    "        'polarity': [0, 0],\n",
    "        'early': [0, 0],\n",
    "        'updated': [0, 0]\n",
    "    }\n",
    "    review_dates = dd(int)\n",
    "    review_playtimes = []\n",
    "    review_votes = {\n",
    "        'up': [],\n",
    "        'funny': []\n",
    "    }\n",
    "    for page_num in range(1, REVIEW_PAGES + 1):\n",
    "        with open(PATH_REVIEWS % page_num, 'r', encoding='utf-8', newline='') as f:\n",
    "            reader = csv_reader(f, delimiter=',')\n",
    "            for row in reader:\n",
    "                if review_data == ReviewData.UserReviews:\n",
    "                    user_reviews[int(row[0])] += 1\n",
    "                elif review_data == ReviewData.UserPolarities:\n",
    "                    user_polarities[int(row[0])][int(row[2])] += 1\n",
    "                elif review_data == ReviewData.GameReviews:\n",
    "                    game_reviews[int(row[1])] += 1\n",
    "                elif review_data == ReviewData.Counts:\n",
    "                    counts['polarity'][int(row[2])] += 1\n",
    "                    counts['early'][int(row[3])] += 1\n",
    "                    is_updated = int(row[6]) != int(row[7])\n",
    "                    counts['updated'][int(is_updated)] += 1\n",
    "                elif review_data == ReviewData.ReviewDates:\n",
    "                    date = dt.fromtimestamp(int(row[6]))\n",
    "                    review_dates[(date.year, date.month)] += 1\n",
    "                elif review_data == ReviewData.ReviewPlaytimes:\n",
    "                    review_playtimes.append(float(row[5]))\n",
    "                else:\n",
    "                    review_votes['up'].append(int(row[8]))\n",
    "                    review_votes['funny'].append(int(row[9]))\n",
    "    if review_data == ReviewData.UserReviews:\n",
    "        return user_reviews\n",
    "    elif review_data == ReviewData.UserPolarities:\n",
    "        return user_polarities\n",
    "    elif review_data == ReviewData.GameReviews:\n",
    "        return game_reviews\n",
    "    elif review_data == ReviewData.Counts:\n",
    "        return counts\n",
    "    elif review_data == ReviewData.ReviewDates:\n",
    "        return review_dates\n",
    "    elif review_data == ReviewData.ReviewPlaytimes:\n",
    "        return review_playtimes\n",
    "    else:\n",
    "        return review_votes"
   ]
  },
  {
   "cell_type": "markdown",
   "id": "5d233457-388b-4ccc-90ed-e49adae797a8",
   "metadata": {
    "tags": []
   },
   "source": [
    "#### Language Data"
   ]
  },
  {
   "cell_type": "code",
   "execution_count": 9,
   "id": "51555ace-0476-48c8-ad36-d4c4d7be74ca",
   "metadata": {},
   "outputs": [],
   "source": [
    "def load_review_language_data():\n",
    "    df = pd.concat((\n",
    "        pd.read_csv(PATH_LANGS % page_num, header=None) for page_num in range(1, LANGS_PAGES + 1)\n",
    "    )).reset_index(drop=True)\n",
    "    df.columns = ['lang', 'score', 'nlp_words', 'raw_words', 'raw_chars']\n",
    "    return df"
   ]
  },
  {
   "cell_type": "markdown",
   "id": "34907fcb-747b-475f-bf85-99e3d201e1b6",
   "metadata": {
    "tags": []
   },
   "source": [
    "## Plotting Data"
   ]
  },
  {
   "cell_type": "markdown",
   "id": "f12a7f55-96c7-47ed-85f1-35e9f1b0a7a3",
   "metadata": {
    "jp-MarkdownHeadingCollapsed": true,
    "tags": []
   },
   "source": [
    "### Setup"
   ]
  },
  {
   "cell_type": "code",
   "execution_count": 10,
   "id": "b108bfbd-1377-4540-a035-97f5ccb6019a",
   "metadata": {
    "tags": []
   },
   "outputs": [],
   "source": [
    "import matplotlib.pyplot as plt\n",
    "import numpy as np\n",
    "from matplotlib.ticker import AutoMinorLocator"
   ]
  },
  {
   "cell_type": "code",
   "execution_count": 11,
   "id": "bb7ed654-cfcd-4332-932f-2b10c3e8678e",
   "metadata": {
    "tags": []
   },
   "outputs": [],
   "source": [
    "FONT_SIZE_S = 15\n",
    "FONT_SIZE_L = 18\n",
    "TICK_DIR = 'in'\n",
    "TICK_SIZE_S = 3.0\n",
    "TICK_SIZE_L = 5.0\n",
    "\n",
    "def init_plt():\n",
    "    plt.style.use('default')\n",
    "    plt.rcParams['text.usetex'] = True\n",
    "    plt.rcParams['font.size'] = FONT_SIZE_S\n",
    "    plt.rcParams['legend.fontsize'] = FONT_SIZE_S\n",
    "    plt.rcParams['xtick.direction'] = TICK_DIR\n",
    "    plt.rcParams['ytick.direction'] = TICK_DIR\n",
    "    plt.rcParams['xtick.major.size'] = TICK_SIZE_L\n",
    "    plt.rcParams['xtick.minor.size'] = TICK_SIZE_S\n",
    "    plt.rcParams['ytick.major.size'] = TICK_SIZE_L\n",
    "    plt.rcParams['ytick.minor.size'] = TICK_SIZE_S\n",
    "    plt.rcParams['axes.linewidth'] = 0.8\n",
    "    plt.rcParams['axes.formatter.limits'] = (-9, 10)\n",
    "    plt.rcParams['legend.handlelength'] = 2.0\n",
    "    plt.rcParams['savefig.dpi'] = 400\n",
    "    plt.rcParams['savefig.bbox'] = 'tight'\n",
    "\n",
    "def init_ax(ax, only_vertical=False):\n",
    "    if not only_vertical:\n",
    "        ax.xaxis.set_minor_locator(AutoMinorLocator())\n",
    "    ax.yaxis.set_minor_locator(AutoMinorLocator())\n",
    "    return ax\n",
    "\n",
    "init_plt()"
   ]
  },
  {
   "cell_type": "code",
   "execution_count": 12,
   "id": "e4c26413-7aee-4202-925e-f4c4fa967651",
   "metadata": {
    "tags": []
   },
   "outputs": [],
   "source": [
    "DIR_FIGS = '../figures/03_dataset/'"
   ]
  },
  {
   "cell_type": "markdown",
   "id": "d0cc5c2a-2d20-4357-9204-70e93f0c2901",
   "metadata": {
    "tags": []
   },
   "source": [
    "### Helper Functions"
   ]
  },
  {
   "cell_type": "code",
   "execution_count": 32,
   "id": "5e91f0b8-060b-4801-a539-10e604f519af",
   "metadata": {},
   "outputs": [],
   "source": [
    "def print_stats(X):\n",
    "    Xnp = np.array(X)\n",
    "    print('=== STATS REPORT ===')\n",
    "    print(f'- length={len(X)}')\n",
    "    print(f'- mean={np.mean(Xnp)}')\n",
    "    print(f'- std={np.std(Xnp)}')\n",
    "    print(f'- median={np.median(Xnp)}')\n",
    "    q75, q25 = np.percentile(Xnp, [75, 25])\n",
    "    print(f'- q75={q75}, q25={q25}, iqr={q75 - q25}')"
   ]
  },
  {
   "cell_type": "code",
   "execution_count": 13,
   "id": "f4bbf997-5888-4edb-9a44-53929dd22be3",
   "metadata": {
    "tags": []
   },
   "outputs": [],
   "source": [
    "def exclude_outliers_iqr(X, scale=1.5, verbose=False):\n",
    "    X.sort()\n",
    "    N = len(X)\n",
    "    q1 = X[int(N * 0.25)]\n",
    "    q3 = X[int(N * 0.75)]\n",
    "    iqr = (q3 - q1) * scale\n",
    "    min_value = q1 - iqr\n",
    "    max_value = q3 + iqr\n",
    "    start_ix = 0\n",
    "    end_ix = N - 1\n",
    "    while X[start_ix] < min_value:\n",
    "        start_ix += 1\n",
    "    while X[end_ix] > max_value:\n",
    "        end_ix -= 1\n",
    "    N_excl = start_ix + (N - end_ix)\n",
    "    if verbose:\n",
    "        print ('=== OUTLIER REPORT ===')\n",
    "        print(f'- excluded {N_excl} out of {N} ({N_excl / N})')\n",
    "        print(f'- min_old={X[0]}, max_old={X[-1]}')\n",
    "        print(f'- min_new={X[start_ix]}, max_new={X[end_ix]}')\n",
    "    return X[start_ix:end_ix]"
   ]
  },
  {
   "cell_type": "code",
   "execution_count": 14,
   "id": "11196fdd-bdad-4cf8-8e3e-06ddebbc724f",
   "metadata": {
    "tags": []
   },
   "outputs": [],
   "source": [
    "def get_groupless_user_count(user_groups, friend_graph):\n",
    "    count = 0\n",
    "    for user in friend_graph.keys():\n",
    "        if user not in user_groups:\n",
    "            count += 1\n",
    "    return count"
   ]
  },
  {
   "cell_type": "code",
   "execution_count": 15,
   "id": "27a36a9a-e6e5-4758-8da3-742a428f1247",
   "metadata": {
    "tags": []
   },
   "outputs": [],
   "source": [
    "def get_yearly_counts_from_monthly(review_dates):\n",
    "    N = 12\n",
    "    X, Y = list(range(N)), [0] * N\n",
    "    labels = [str(y) for y in range(2010, 2022)]\n",
    "    for key, value in review_dates.items():\n",
    "        Y[key[0] - 2010] += value\n",
    "    return X, Y, labels"
   ]
  },
  {
   "cell_type": "code",
   "execution_count": 16,
   "id": "904842ed-44fa-432b-855e-ec6160c93be3",
   "metadata": {},
   "outputs": [],
   "source": [
    "def get_language_name_from_code(code):\n",
    "    if code == 'UNKNOWN': return 'Unknown'\n",
    "    elif code == 'zh-cn': return 'Chinese$^*$'\n",
    "    elif code == 'zh-tw': return 'Chinese$^**$'\n",
    "    else: return languages.get(alpha2=code).name"
   ]
  },
  {
   "cell_type": "markdown",
   "id": "0a6bf705-a8ea-4055-a949-d9f8b8add7a9",
   "metadata": {
    "jp-MarkdownHeadingCollapsed": true,
    "tags": []
   },
   "source": [
    "### Friend Data"
   ]
  },
  {
   "cell_type": "code",
   "execution_count": 31,
   "id": "1f381305-7784-41ae-bcb4-543dc6147e21",
   "metadata": {
    "tags": []
   },
   "outputs": [],
   "source": [
    "def plot_friend_hist(friend_graph):\n",
    "    # convert to an array of data\n",
    "    X = []\n",
    "    for friends in friend_graph.values():\n",
    "        X.append(len(friends))\n",
    "    # print stats\n",
    "    print_stats(X)\n",
    "    # exclude outliers\n",
    "    X = exclude_outliers_iqr(X, scale=3.0, verbose=True)\n",
    "    return\n",
    "    # dynamic bins choice\n",
    "    num_bins = X[-1]\n",
    "    # plot histogram\n",
    "    ax = plt.gca()\n",
    "    ax = init_ax(ax)\n",
    "    plt.hist(X, bins=num_bins, color='grey')\n",
    "    plt.xlabel('Number of friends')\n",
    "    plt.ylabel('Users')\n",
    "    plt.savefig(DIR_FIGS + '01_hist_friends.png')\n",
    "    plt.show()"
   ]
  },
  {
   "cell_type": "code",
   "execution_count": 28,
   "id": "db1c7486-f028-4663-baaa-9234d0aafb4d",
   "metadata": {
    "tags": []
   },
   "outputs": [],
   "source": [
    "friend_graph = load_friend_data()"
   ]
  },
  {
   "cell_type": "code",
   "execution_count": 33,
   "id": "3b14b4e7-4577-4fec-b818-b69d1aca08c4",
   "metadata": {
    "tags": []
   },
   "outputs": [
    {
     "name": "stdout",
     "output_type": "stream",
     "text": [
      "=== STATS REPORT ===\n",
      "- length=4183276\n",
      "- mean=28.47915126804925\n",
      "- std=46.964504216250766\n",
      "- median=16.0\n",
      "- q75=35.0, q25=7.0, iqr=28.0\n",
      "=== OUTLIER REPORT ===\n",
      "- excluded 110320 out of 4183276 (0.026371676169585752)\n",
      "- min_old=1, max_old=2053\n",
      "- min_new=1, max_new=119\n"
     ]
    }
   ],
   "source": [
    "plot_friend_hist(friend_graph)"
   ]
  },
  {
   "cell_type": "markdown",
   "id": "9fa2d63d-e1d3-4ddd-ad2e-8e0121691202",
   "metadata": {
    "tags": []
   },
   "source": [
    "### Group Data"
   ]
  },
  {
   "cell_type": "markdown",
   "id": "3cecde96-f467-4992-a11a-9a285558d1ef",
   "metadata": {
    "jp-MarkdownHeadingCollapsed": true,
    "tags": []
   },
   "source": [
    "#### Group Users"
   ]
  },
  {
   "cell_type": "code",
   "execution_count": 37,
   "id": "0d32dd16-71fd-4cc7-b228-82416a1b8422",
   "metadata": {
    "tags": []
   },
   "outputs": [],
   "source": [
    "def plot_group_users_hist(group_users):\n",
    "    # convert to an array of data\n",
    "    X = []\n",
    "    for users in group_users.values():\n",
    "        X.append(len(users))\n",
    "    # print stats\n",
    "    print_stats(X)\n",
    "    # exclude outliers\n",
    "    X = exclude_outliers_iqr(X, scale=4.5, verbose=True)\n",
    "    return\n",
    "    # dynamic bins choice\n",
    "    num_bins = X[-1]\n",
    "    # plot histogram\n",
    "    ax = plt.gca()\n",
    "    ax = init_ax(ax)\n",
    "    plt.hist(X, bins=num_bins, color='grey')\n",
    "    plt.xlabel('Number of members')\n",
    "    plt.ylabel('Groups')\n",
    "    plt.savefig(DIR_FIGS + '02_hist_group_users.png')\n",
    "    plt.show()"
   ]
  },
  {
   "cell_type": "code",
   "execution_count": 35,
   "id": "65b286e9-9746-49d2-bcf7-a2160de44209",
   "metadata": {
    "tags": []
   },
   "outputs": [],
   "source": [
    "group_users, user_groups = load_group_data()"
   ]
  },
  {
   "cell_type": "code",
   "execution_count": 42,
   "id": "5b03fc09-b586-458d-abce-847f02a6d8fd",
   "metadata": {
    "tags": []
   },
   "outputs": [
    {
     "name": "stdout",
     "output_type": "stream",
     "text": [
      "=== STATS REPORT ===\n",
      "- length=5981137\n",
      "- mean=8.97812221990568\n",
      "- std=339.29011304305214\n",
      "- median=1.0\n",
      "- q75=3.0, q25=1.0, iqr=2.0\n",
      "=== OUTLIER REPORT ===\n",
      "- excluded 337472 out of 5981137 (0.056422716951643144)\n",
      "- min_old=1, max_old=310646\n",
      "- min_new=1, max_new=12\n"
     ]
    }
   ],
   "source": [
    "plot_group_users_hist(group_users)"
   ]
  },
  {
   "cell_type": "markdown",
   "id": "0da551e7-2052-476f-8fbd-654ad29b49a0",
   "metadata": {
    "jp-MarkdownHeadingCollapsed": true,
    "tags": []
   },
   "source": [
    "#### User Groups"
   ]
  },
  {
   "cell_type": "code",
   "execution_count": 38,
   "id": "77b8ceb0-d2e6-4246-9883-6427c8e3ac65",
   "metadata": {
    "tags": []
   },
   "outputs": [],
   "source": [
    "def plot_user_groups_hist(user_groups, friend_graph):\n",
    "    # calculate the number of groupless users\n",
    "    groupless_count = get_groupless_user_count(user_groups, friend_graph)\n",
    "    # convert to an array of data\n",
    "    X = [0] * groupless_count\n",
    "    for groups in user_groups.values():\n",
    "        X.append(len(groups))\n",
    "    # print stats\n",
    "    print_stats(X)\n",
    "    # exclude outliers\n",
    "    X = exclude_outliers_iqr(X, scale=3.0, verbose=True)\n",
    "    return\n",
    "    # dynamic bins choice\n",
    "    # +1 to account for 0 needing a bin too\n",
    "    num_bins = X[-1] + 1\n",
    "    # plot histogram\n",
    "    ax = plt.gca()\n",
    "    ax = init_ax(ax)\n",
    "    plt.hist(X, bins=num_bins, color='grey')\n",
    "    plt.xlabel('Number of groups')\n",
    "    plt.ylabel('Users')\n",
    "    plt.savefig(DIR_FIGS + '03_hist_user_groups.png')\n",
    "    plt.show()"
   ]
  },
  {
   "cell_type": "code",
   "execution_count": 43,
   "id": "5170f0ff-6827-4f76-ba78-293da5776f88",
   "metadata": {
    "tags": []
   },
   "outputs": [
    {
     "name": "stdout",
     "output_type": "stream",
     "text": [
      "=== STATS REPORT ===\n",
      "- length=4183276\n",
      "- mean=12.836680869251754\n",
      "- std=37.23680180993714\n",
      "- median=4.0\n",
      "- q75=12.0, q25=1.0, iqr=11.0\n",
      "=== OUTLIER REPORT ===\n",
      "- excluded 229697 out of 4183276 (0.05490840193188305)\n",
      "- min_old=0, max_old=2224\n",
      "- min_new=0, max_new=45\n"
     ]
    }
   ],
   "source": [
    "plot_user_groups_hist(user_groups, friend_graph)"
   ]
  },
  {
   "cell_type": "markdown",
   "id": "5226e3a0-99b0-4513-8e33-bc219c816026",
   "metadata": {
    "tags": []
   },
   "source": [
    "### Review Data"
   ]
  },
  {
   "cell_type": "markdown",
   "id": "b091cca1-6d3e-4579-ab79-636ecfd182f8",
   "metadata": {
    "jp-MarkdownHeadingCollapsed": true,
    "tags": []
   },
   "source": [
    "#### User Reviews"
   ]
  },
  {
   "cell_type": "code",
   "execution_count": 44,
   "id": "360d314d-180b-4587-9677-0868690ce9a0",
   "metadata": {
    "tags": []
   },
   "outputs": [],
   "source": [
    "def plot_user_reviews_hist(user_reviews):\n",
    "    # convert to an array of data\n",
    "    X = []\n",
    "    for reviews in user_reviews.values():\n",
    "        X.append(reviews)\n",
    "    # print stats\n",
    "    print_stats(X)\n",
    "    # exclude outliers\n",
    "    X = exclude_outliers_iqr(X, scale=6.0, verbose=True)\n",
    "    return\n",
    "    # dynamic bins choice\n",
    "    num_bins = X[-1]\n",
    "    # plot histogram\n",
    "    ax = plt.gca()\n",
    "    ax = init_ax(ax)\n",
    "    plt.hist(X, bins=num_bins, color='grey')\n",
    "    plt.xlabel('Number of reviews')\n",
    "    plt.ylabel('Users')\n",
    "    plt.savefig(DIR_FIGS + 'hist_user_reviews.png')\n",
    "    plt.show()"
   ]
  },
  {
   "cell_type": "code",
   "execution_count": 45,
   "id": "f95f3200-b45d-4553-bb08-86e804af5e9b",
   "metadata": {
    "tags": []
   },
   "outputs": [],
   "source": [
    "user_reviews = load_review_data(ReviewData.UserReviews)"
   ]
  },
  {
   "cell_type": "code",
   "execution_count": 47,
   "id": "772670fd-8580-43b0-b5b6-d6b634c6f3b0",
   "metadata": {
    "tags": []
   },
   "outputs": [],
   "source": [
    "del user_reviews"
   ]
  },
  {
   "cell_type": "code",
   "execution_count": 46,
   "id": "e56b871c-de44-4039-a389-d7ee56a261c4",
   "metadata": {
    "tags": []
   },
   "outputs": [
    {
     "name": "stdout",
     "output_type": "stream",
     "text": [
      "=== STATS REPORT ===\n",
      "- length=2049646\n",
      "- mean=4.655833739094458\n",
      "- std=16.862597122000142\n",
      "- median=2.0\n",
      "- q75=4.0, q25=1.0, iqr=3.0\n",
      "=== OUTLIER REPORT ===\n",
      "- excluded 63972 out of 2049646 (0.031211243307380884)\n",
      "- min_old=1, max_old=5235\n",
      "- min_new=1, max_new=22\n"
     ]
    }
   ],
   "source": [
    "plot_user_reviews_hist(user_reviews)"
   ]
  },
  {
   "cell_type": "markdown",
   "id": "6d3dcaff-19a5-46ae-9696-678c7b06be6b",
   "metadata": {
    "jp-MarkdownHeadingCollapsed": true,
    "tags": []
   },
   "source": [
    "#### Game Reviews"
   ]
  },
  {
   "cell_type": "code",
   "execution_count": 40,
   "id": "2264fadb-9a64-4188-af35-97cce6d1583a",
   "metadata": {},
   "outputs": [],
   "source": [
    "def plot_game_reviews_hist(game_reviews):\n",
    "    # convert to an array of data\n",
    "    X = []\n",
    "    for reviews in game_reviews.values():\n",
    "        X.append(reviews)\n",
    "    # print stats\n",
    "    print_stats(X)\n",
    "    # exclude outliers\n",
    "    X = exclude_outliers_iqr(X, scale=4.5, verbose=True)\n",
    "    return\n",
    "    # dynamic bins choice\n",
    "    num_bins = X[-1] // 2\n",
    "    # plot histogram\n",
    "    ax = plt.gca()\n",
    "    ax = init_ax(ax)\n",
    "    plt.hist(X, bins=num_bins, color='grey')\n",
    "    plt.xlabel('Number of reviews')\n",
    "    plt.ylabel('Games')\n",
    "    plt.savefig(DIR_FIGS + 'hist_game_reviews.png')\n",
    "    plt.show()"
   ]
  },
  {
   "cell_type": "code",
   "execution_count": 48,
   "id": "7d51f24a-93c4-428c-912b-e8fd04617fd2",
   "metadata": {
    "tags": []
   },
   "outputs": [],
   "source": [
    "game_reviews = load_review_data(ReviewData.GameReviews)"
   ]
  },
  {
   "cell_type": "code",
   "execution_count": 50,
   "id": "dd606165-88b3-4604-8f46-583e49a6bf91",
   "metadata": {
    "tags": []
   },
   "outputs": [],
   "source": [
    "del game_reviews"
   ]
  },
  {
   "cell_type": "code",
   "execution_count": 49,
   "id": "9b2a2f12-0ca5-4e48-b41b-030dde3e59ea",
   "metadata": {
    "tags": []
   },
   "outputs": [
    {
     "name": "stdout",
     "output_type": "stream",
     "text": [
      "=== STATS REPORT ===\n",
      "- length=57631\n",
      "- mean=165.58468532560602\n",
      "- std=3611.086909627601\n",
      "- median=7.0\n",
      "- q75=31.0, q25=2.0, iqr=29.0\n",
      "=== OUTLIER REPORT ===\n",
      "- excluded 5034 out of 57631 (0.087348822682237)\n",
      "- min_old=1, max_old=753161\n",
      "- min_new=1, max_new=161\n"
     ]
    }
   ],
   "source": [
    "plot_game_reviews_hist(game_reviews)"
   ]
  },
  {
   "cell_type": "markdown",
   "id": "f06b80e3-cde3-4b41-b624-259848bda90b",
   "metadata": {
    "jp-MarkdownHeadingCollapsed": true,
    "tags": []
   },
   "source": [
    "#### User Polarities"
   ]
  },
  {
   "cell_type": "code",
   "execution_count": 51,
   "id": "1e6ab5ed-0c15-4494-bb0b-dc3dcbe04d8d",
   "metadata": {},
   "outputs": [],
   "source": [
    "def plot_user_polarities_hist(user_polarities, min_reviews=1):\n",
    "    # convert to an array of data\n",
    "    X = []\n",
    "    for user_polarity in user_polarities.values():\n",
    "        count_down, count_up = user_polarity\n",
    "        if count_down + count_up < min_reviews: continue\n",
    "        percent = count_up / (count_down + count_up)\n",
    "        X.append(percent)\n",
    "    # print stats\n",
    "    print_stats(X)\n",
    "    return\n",
    "    # plot histogram\n",
    "    ax = plt.gca()\n",
    "    ax = init_ax(ax)\n",
    "    plt.hist(X, bins=20, color='grey')\n",
    "    if min_reviews == 1:\n",
    "        plt.xlabel(f'Proportion positive reviews')\n",
    "    else:\n",
    "        plt.xlabel(f'Proportion positive reviews ($\\ge 5$ reviews)')\n",
    "    plt.ylabel('Users')\n",
    "    plt.savefig(DIR_FIGS + f'hist_user_polarities_min{min_reviews}.png')\n",
    "    plt.show()"
   ]
  },
  {
   "cell_type": "code",
   "execution_count": 52,
   "id": "438572c3-74db-4816-9ae4-5a82d40b874e",
   "metadata": {},
   "outputs": [],
   "source": [
    "user_polarities = load_review_data(ReviewData.UserPolarities)"
   ]
  },
  {
   "cell_type": "code",
   "execution_count": 54,
   "id": "b6df32ce-51b5-40d6-95c1-2cae8ea91291",
   "metadata": {},
   "outputs": [],
   "source": [
    "del user_polarities"
   ]
  },
  {
   "cell_type": "code",
   "execution_count": 53,
   "id": "61ae32bb-b2aa-4def-9a97-ceed99e87412",
   "metadata": {
    "tags": []
   },
   "outputs": [
    {
     "name": "stdout",
     "output_type": "stream",
     "text": [
      "=== STATS REPORT ===\n",
      "- length=2049646\n",
      "- mean=0.8858035956954274\n",
      "- std=0.25195974192446213\n",
      "- median=1.0\n",
      "- q75=1.0, q25=0.9318181818181818, iqr=0.06818181818181823\n",
      "=== STATS REPORT ===\n",
      "- length=444863\n",
      "- mean=0.8584297413722493\n",
      "- std=0.16575808776142945\n",
      "- median=0.9\n",
      "- q75=1.0, q25=0.8, iqr=0.19999999999999996\n"
     ]
    }
   ],
   "source": [
    "plot_user_polarities_hist(user_polarities)\n",
    "plot_user_polarities_hist(user_polarities, min_reviews=5)"
   ]
  },
  {
   "cell_type": "markdown",
   "id": "d2e52ec7-7471-4f07-9bd4-e228c6095d17",
   "metadata": {
    "jp-MarkdownHeadingCollapsed": true,
    "tags": []
   },
   "source": [
    "#### Counts"
   ]
  },
  {
   "cell_type": "code",
   "execution_count": 23,
   "id": "c0b5b2b1-e44a-4c32-a0a1-11d4ab39290d",
   "metadata": {
    "tags": []
   },
   "outputs": [],
   "source": [
    "def plot_counts_bars(counts):\n",
    "    # calc and print values\n",
    "    num_neg, num_pos = counts['polarity']\n",
    "    pct_neg = round(num_neg / (num_neg + num_pos), 3)\n",
    "    pct_pos = round(num_pos / (num_neg + num_pos), 3)\n",
    "    num_nea, num_ea = counts['early']\n",
    "    pct_nea = round(num_nea / (num_nea + num_ea), 3)\n",
    "    pct_ea = round(num_ea / (num_nea + num_ea), 3)\n",
    "    num_nupd, num_upd = counts['updated']\n",
    "    pct_nupd = round(num_nupd / (num_nupd + num_upd), 3)\n",
    "    pct_upd = round(num_upd / (num_nupd + num_upd), 3)\n",
    "    print('=== Counts ===')\n",
    "    print(f'Pol: pos={num_pos}, %pos={pct_pos}, neg={num_neg}, %neg={pct_neg}')\n",
    "    print(f'EA: ea={num_ea}, %ea={pct_ea}, nea={num_not_ea}, %nea={pct_nea}')\n",
    "    print(f'Upd: upd={num_upd}, %upd={pct_upd}, nupd={num_nupd}, %nupd={pct_nupd}')\n",
    "    # plot values\n",
    "    X = np.arange(3)\n",
    "    plt.rcParams['xtick.direction'] = 'out'\n",
    "    ax = plt.gca()\n",
    "    ax = init_ax(ax, only_vertical=True)\n",
    "    plt.bar(X + 0.00, [pct_pos, pct_ea, pct_upd], color='dimgrey', width=0.33)\n",
    "    plt.bar(X + 0.33, [pct_neg, pct_nea, pct_nupd], color='darkgrey', width=0.33)\n",
    "    plt.xlim([-0.66, 3.0])\n",
    "    plt.ylim([0, 1])\n",
    "    plt.xticks([0.166, 1.166, 2.166], ['Voted Up', 'Early Access', 'Was Updated'])\n",
    "    plt.ylabel('Percentage')\n",
    "    plt.legend(['Yes', 'No'], loc='upper left', bbox_to_anchor=(1, 1))\n",
    "    plt.savefig(DIR_FIGS + 'bars_counts.png')\n",
    "    plt.show()\n",
    "    init_plt()"
   ]
  },
  {
   "cell_type": "code",
   "execution_count": 451,
   "id": "3730ca0e-edf7-47ca-ba1e-48a5093004b4",
   "metadata": {},
   "outputs": [],
   "source": [
    "counts = load_review_data(ReviewData.Counts)"
   ]
  },
  {
   "cell_type": "code",
   "execution_count": 352,
   "id": "2652ebfb-0823-42a3-8621-ca2032ee8966",
   "metadata": {},
   "outputs": [],
   "source": [
    "del counts"
   ]
  },
  {
   "cell_type": "code",
   "execution_count": 460,
   "id": "99cc42c3-910e-481a-b407-817f850fe8c9",
   "metadata": {},
   "outputs": [
    {
     "name": "stdout",
     "output_type": "stream",
     "text": [
      "=== Counts ===\n",
      "Pol: pos=8113706, %pos=0.85, neg=1429105, %neg=0.15\n",
      "EA: ea=918570, %ea=0.096, nea=8624241, %nea=0.904\n",
      "Upd: upd=1374710, %upd=0.144, nupd=8168101, %nupd=0.856\n"
     ]
    },
    {
     "data": {
      "image/png": "[encoded data removed]",
      "text/plain": [
       "<Figure size 640x480 with 1 Axes>"
      ]
     },
     "metadata": {},
     "output_type": "display_data"
    }
   ],
   "source": [
    "plot_counts_bars(counts)"
   ]
  },
  {
   "cell_type": "markdown",
   "id": "ec29c73f-d3bf-4217-ac21-24e39d1c18bb",
   "metadata": {
    "jp-MarkdownHeadingCollapsed": true,
    "tags": []
   },
   "source": [
    "#### Dates"
   ]
  },
  {
   "cell_type": "code",
   "execution_count": 463,
   "id": "9e2eddfd-b8e3-4a15-9325-546f492cada1",
   "metadata": {
    "tags": []
   },
   "outputs": [],
   "source": [
    "def plot_review_dates_bars(review_dates):\n",
    "    X, Y, labels = get_yearly_counts_from_monthly(review_dates)\n",
    "    plt.rcParams['xtick.direction'] = 'out'\n",
    "    ax = plt.gca()\n",
    "    ax = init_ax(ax, only_vertical=True)\n",
    "    plt.bar(X, Y, color='grey', tick_label=labels)\n",
    "    plt.xticks(rotation='vertical')\n",
    "    plt.xlabel('Year')\n",
    "    plt.ylabel('Reviews')\n",
    "    plt.savefig(DIR_FIGS + 'bars_review_dates.png')\n",
    "    plt.show()\n",
    "    init_plt()"
   ]
  },
  {
   "cell_type": "code",
   "execution_count": 55,
   "id": "10eaf8a2-3866-417f-a5da-3367eed95e39",
   "metadata": {},
   "outputs": [],
   "source": [
    "review_dates = load_review_data(ReviewData.ReviewDates)"
   ]
  },
  {
   "cell_type": "code",
   "execution_count": 56,
   "id": "049965eb-1b11-4082-89cd-72b4cb464c3b",
   "metadata": {},
   "outputs": [],
   "source": [
    "del review_dates"
   ]
  },
  {
   "cell_type": "code",
   "execution_count": 464,
   "id": "6f2e0415-fd1d-4b7f-a744-f7f2d5f50999",
   "metadata": {},
   "outputs": [
    {
     "data": {
      "image/png": "[encoded data removed]",
      "text/plain": [
       "<Figure size 640x480 with 1 Axes>"
      ]
     },
     "metadata": {},
     "output_type": "display_data"
    }
   ],
   "source": [
    "plot_review_dates_bars(review_dates)"
   ]
  },
  {
   "cell_type": "markdown",
   "id": "35386eae-e013-4f26-9172-2f2cb320806e",
   "metadata": {
    "jp-MarkdownHeadingCollapsed": true,
    "tags": []
   },
   "source": [
    "#### Playtimes"
   ]
  },
  {
   "cell_type": "code",
   "execution_count": 57,
   "id": "fef1439e-e605-40b4-80f0-3a22eeb77199",
   "metadata": {},
   "outputs": [],
   "source": [
    "def plot_review_playtimes_hist(review_playtimes):\n",
    "    X = review_playtimes\n",
    "    # print stats\n",
    "    print_stats(X)\n",
    "    # exclude outliers\n",
    "    X = exclude_outliers_iqr(X, scale=1.5, verbose=True)\n",
    "    return\n",
    "    X = list(map(round, X))\n",
    "    # dynamic bins choice\n",
    "    num_bins = X[-1] // 2\n",
    "    # plot histogram\n",
    "    ax = plt.gca()\n",
    "    ax = init_ax(ax)\n",
    "    plt.hist(X, bins=num_bins, color='grey')\n",
    "    plt.xlabel('Hours played')\n",
    "    plt.ylabel('Reviews')\n",
    "    plt.savefig(DIR_FIGS + 'hist_review_playtimes.png')\n",
    "    plt.show()"
   ]
  },
  {
   "cell_type": "code",
   "execution_count": 58,
   "id": "2a844559-5346-4f4e-9754-f2b6bd09fa26",
   "metadata": {},
   "outputs": [],
   "source": [
    "review_playtimes = load_review_data(ReviewData.ReviewPlaytimes)"
   ]
  },
  {
   "cell_type": "code",
   "execution_count": 62,
   "id": "5bcb431e-f5aa-44f6-a052-d49546f25742",
   "metadata": {},
   "outputs": [],
   "source": [
    "del review_playtimes"
   ]
  },
  {
   "cell_type": "code",
   "execution_count": 61,
   "id": "834d161d-2992-4f5a-aacb-00b00e7badd1",
   "metadata": {
    "tags": []
   },
   "outputs": [
    {
     "name": "stdout",
     "output_type": "stream",
     "text": [
      "=== STATS REPORT ===\n",
      "- length=9542811\n",
      "- mean=159.11410520443067\n",
      "- std=540.6030757956179\n",
      "- median=12.2\n",
      "- q75=62.7, q25=2.9, iqr=59.800000000000004\n",
      "=== OUTLIER REPORT ===\n",
      "- excluded 1573427 out of 9542811 (0.1648808721036181)\n",
      "- min_old=0.0, max_old=63559.6\n",
      "- min_new=0.0, max_new=152.4\n"
     ]
    }
   ],
   "source": [
    "plot_review_playtimes_hist(review_playtimes)"
   ]
  },
  {
   "cell_type": "markdown",
   "id": "7fa1819e-d0cf-41dc-849b-d7e3aefa79a1",
   "metadata": {
    "jp-MarkdownHeadingCollapsed": true,
    "tags": []
   },
   "source": [
    "#### Votes Up"
   ]
  },
  {
   "cell_type": "code",
   "execution_count": 59,
   "id": "ca3b0200-0e5a-4d6c-9243-f3a09cb84b6a",
   "metadata": {
    "tags": []
   },
   "outputs": [],
   "source": [
    "def plot_review_votes_hist(review_votes):\n",
    "    X = review_votes['up']\n",
    "    # print stats\n",
    "    print_stats(X)\n",
    "    # exclude outliers\n",
    "    X = exclude_outliers_iqr(X, scale=7.5, verbose=True)\n",
    "    return\n",
    "    # dynamic bins choice\n",
    "    num_bins = X[-1] + 1\n",
    "    # plot histogram\n",
    "    ax = plt.gca()\n",
    "    ax = init_ax(ax)\n",
    "    plt.hist(X, bins=num_bins, color='grey')\n",
    "    plt.xlabel('Votes Up')\n",
    "    plt.ylabel('Reviews')\n",
    "    plt.savefig(DIR_FIGS + 'hist_review_votes.png')\n",
    "    plt.show()"
   ]
  },
  {
   "cell_type": "code",
   "execution_count": 63,
   "id": "52946b06-f8a1-488b-8da8-6fb17e575d93",
   "metadata": {},
   "outputs": [],
   "source": [
    "review_votes = load_review_data(ReviewData.ReviewVotes)"
   ]
  },
  {
   "cell_type": "code",
   "execution_count": 66,
   "id": "60916477-1ac5-4a07-853a-218be0771e5d",
   "metadata": {},
   "outputs": [],
   "source": [
    "del review_votes"
   ]
  },
  {
   "cell_type": "code",
   "execution_count": 64,
   "id": "4b1629b1-38ac-48dc-946b-d59f638e2d59",
   "metadata": {},
   "outputs": [
    {
     "name": "stdout",
     "output_type": "stream",
     "text": [
      "=== STATS REPORT ===\n",
      "- length=9542811\n",
      "- mean=4.32535832471166\n",
      "- std=22.96303456128898\n",
      "- median=0.0\n",
      "- q75=2.0, q25=0.0, iqr=2.0\n",
      "=== OUTLIER REPORT ===\n",
      "- excluded 431702 out of 9542811 (0.045238452275749776)\n",
      "- min_old=0, max_old=999\n",
      "- min_new=0, max_new=17\n"
     ]
    }
   ],
   "source": [
    "plot_review_votes_hist(review_votes)"
   ]
  },
  {
   "cell_type": "markdown",
   "id": "321d2bc4-1133-46dd-a921-a621b4ca5a48",
   "metadata": {
    "tags": []
   },
   "source": [
    "#### Language"
   ]
  },
  {
   "cell_type": "code",
   "execution_count": 26,
   "id": "7bd61f47-0ca7-4193-b615-1b7207ee2700",
   "metadata": {
    "tags": []
   },
   "outputs": [],
   "source": [
    "def plot_review_langs_bars(review_langs, min_words=0, min_pct=0.01):\n",
    "    df = review_langs[review_langs['nlp_words'] >= min_words].groupby(['lang']).size().reset_index(name='freq')\n",
    "    df['lang'] = df['lang'].apply(get_language_name_from_code)\n",
    "    df['freq_pct'] = df['freq'] / df['freq'].sum()\n",
    "    df = df[df['freq_pct'] > 0.01].sort_values(by='freq_pct', ascending=False)\n",
    "    plt.rcParams['xtick.direction'] = 'out'\n",
    "    ax = plt.gca()\n",
    "    ax = init_ax(ax, only_vertical=True)\n",
    "    plt.bar(df['lang'], df['freq_pct'], color='grey')\n",
    "    plt.xticks(rotation='vertical')\n",
    "    plt.xlabel('Language')\n",
    "    if min_words > 0: plt.ylabel(f'Proportion of reviews ($\\\\ge {min_words}$ words)')\n",
    "    else: plt.ylabel('Proportion of reviews')\n",
    "    plt.savefig(DIR_FIGS + f'bars_review_langs_min{min_words}.png')\n",
    "    plt.show()\n",
    "    init_plt()"
   ]
  },
  {
   "cell_type": "code",
   "execution_count": 65,
   "id": "a0707a37-f757-4560-aa62-490e543e77bb",
   "metadata": {
    "tags": []
   },
   "outputs": [],
   "source": [
    "def plot_review_words_hist(review_langs, code='en'):\n",
    "    X = list(review_langs[review_langs['lang'] == code]['nlp_words'])\n",
    "    # print stats\n",
    "    print_stats(X)\n",
    "    # exclude outliers\n",
    "    X = exclude_outliers_iqr(X, scale=4.5, verbose=True)\n",
    "    return\n",
    "    num_bins = X[-1]\n",
    "    plt.rcParams['xtick.direction'] = 'out'\n",
    "    ax = plt.gca()\n",
    "    ax = init_ax(ax, only_vertical=True)\n",
    "    plt.hist(X, bins=num_bins, color='grey')\n",
    "    plt.xticks(rotation='vertical')\n",
    "    plt.xlabel(f'Word count ({get_language_name_from_code(code)} reviews)')\n",
    "    plt.ylabel('Reviews')\n",
    "    plt.savefig(DIR_FIGS + f'hist_review_words_{code}.png')\n",
    "    plt.show()\n",
    "    init_plt()"
   ]
  },
  {
   "cell_type": "code",
   "execution_count": 67,
   "id": "e27ea0ce-dbbf-4b4d-b187-fca5c0d9388b",
   "metadata": {},
   "outputs": [],
   "source": [
    "review_langs = load_review_language_data()"
   ]
  },
  {
   "cell_type": "code",
   "execution_count": 69,
   "id": "8377f326-f03d-4da5-a958-f3f2fcb7e86f",
   "metadata": {},
   "outputs": [],
   "source": [
    "del review_langs"
   ]
  },
  {
   "cell_type": "code",
   "execution_count": 735,
   "id": "0fb047e3-ae0c-4fc9-8c35-09d682068cf8",
   "metadata": {
    "tags": []
   },
   "outputs": [
    {
     "data": {
      "image/png": "[encoded data removed]",
      "text/plain": [
       "<Figure size 640x480 with 1 Axes>"
      ]
     },
     "metadata": {},
     "output_type": "display_data"
    },
    {
     "data": {
      "image/png": "[encoded data removed]",
      "text/plain": [
       "<Figure size 640x480 with 1 Axes>"
      ]
     },
     "metadata": {},
     "output_type": "display_data"
    }
   ],
   "source": [
    "plot_review_langs_bars(review_langs)\n",
    "plot_review_langs_bars(review_langs, min_words=5)"
   ]
  },
  {
   "cell_type": "code",
   "execution_count": 68,
   "id": "e11e2c08-cff8-49c5-874f-f85398ff0768",
   "metadata": {},
   "outputs": [
    {
     "name": "stdout",
     "output_type": "stream",
     "text": [
      "=== STATS REPORT ===\n",
      "- length=2367310\n",
      "- mean=62.71249139318467\n",
      "- std=134.34523454796184\n",
      "- median=20.0\n",
      "- q75=57.0, q25=8.0, iqr=49.0\n",
      "=== OUTLIER REPORT ===\n",
      "- excluded 107397 out of 2367310 (0.0453666820146073)\n",
      "- min_old=1, max_old=7993\n",
      "- min_new=1, max_new=277\n"
     ]
    }
   ],
   "source": [
    "plot_review_words_hist(review_langs)"
   ]
  }
 ],
 "metadata": {
  "kernelspec": {
   "display_name": "Python 3 (ipykernel)",
   "language": "python",
   "name": "python3"
  },
  "language_info": {
   "codemirror_mode": {
    "name": "ipython",
    "version": 3
   },
   "file_extension": ".py",
   "mimetype": "text/x-python",
   "name": "python",
   "nbconvert_exporter": "python",
   "pygments_lexer": "ipython3",
   "version": "3.7.9"
  }
 },
 "nbformat": 4,
 "nbformat_minor": 5
}
