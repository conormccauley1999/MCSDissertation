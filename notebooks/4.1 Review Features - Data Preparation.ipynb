{
 "cells": [
  {
   "cell_type": "markdown",
   "id": "38c03b02-8aa3-483f-8c49-a54f1fd2c40f",
   "metadata": {},
   "source": [
    "# 4.1 Review Features: Data Preparation"
   ]
  },
  {
   "cell_type": "markdown",
   "id": "b524daa0-1bc2-4ab7-8d52-d2aed16aff33",
   "metadata": {
    "jp-MarkdownHeadingCollapsed": true,
    "tags": []
   },
   "source": [
    "## Helpers"
   ]
  },
  {
   "cell_type": "code",
   "execution_count": 79,
   "id": "f94dea68-36fd-415b-8546-f5ba5af57eef",
   "metadata": {
    "tags": []
   },
   "outputs": [],
   "source": [
    "import sys, time\n",
    "_st = None\n",
    "def timeit():\n",
    "    global _st\n",
    "    if _st is None:\n",
    "        _st = time.time()\n",
    "    else:\n",
    "        print(int(time.time() - _st))\n",
    "        _st = None"
   ]
  },
  {
   "cell_type": "markdown",
   "id": "47780261-33d6-45a8-838c-521d06a8c8fd",
   "metadata": {
    "jp-MarkdownHeadingCollapsed": true,
    "tags": []
   },
   "source": [
    "## Loading Data"
   ]
  },
  {
   "cell_type": "code",
   "execution_count": 74,
   "id": "88e1ce3f-9f86-4660-9b2b-2b689e5224f1",
   "metadata": {},
   "outputs": [],
   "source": [
    "from datetime import datetime as dt\n",
    "import pandas as pd"
   ]
  },
  {
   "cell_type": "code",
   "execution_count": 76,
   "id": "41611a20-e54c-4191-86b4-e799e771a191",
   "metadata": {},
   "outputs": [],
   "source": [
    "DIR_PREP = '../data/prepared/'\n",
    "PATH_REVIEWS = DIR_PREP + 'reviews/%d.csv'\n",
    "PATH_LANGS = DIR_PREP + 'reviews/languages/%d.csv'\n",
    "REVIEW_PAGES = 32\n",
    "LANGS_PAGES = 21"
   ]
  },
  {
   "cell_type": "code",
   "execution_count": 146,
   "id": "d5296e97-3f22-48c8-8690-88d0dd660ac0",
   "metadata": {
    "tags": []
   },
   "outputs": [],
   "source": [
    "def load_reviews():\n",
    "    df = pd.concat((\n",
    "        pd.read_csv(PATH_REVIEWS % page_num, header=None)\n",
    "        for page_num in range(1, REVIEW_PAGES + 1)\n",
    "    )).reset_index(drop=True)\n",
    "    df.columns = [\n",
    "        'uid','gid','polarity','ea','pt_forever','pt_review',\n",
    "        'ts_created','ts_updated','votes_up','votes_funny','text'\n",
    "    ]\n",
    "    return df\n",
    "\n",
    "def load_reviews_lang():\n",
    "    df = pd.concat((\n",
    "        pd.concat((\n",
    "            pd.read_csv(PATH_REVIEWS % page_num, header=None),\n",
    "            pd.read_csv(PATH_LANGS % page_num, header=None)\n",
    "        ), axis=1)\n",
    "        for page_num in range(1, LANGS_PAGES + 1)\n",
    "    )).reset_index(drop=True)\n",
    "    df.columns = [\n",
    "        'uid','gid','polarity','ea','pt_forever','pt_review',\n",
    "        'ts_created','ts_updated','votes_up','votes_funny','text',\n",
    "        'lang','confidence','nlp_words','raw_words','raw_chars'\n",
    "    ]\n",
    "    return df"
   ]
  },
  {
   "cell_type": "code",
   "execution_count": 80,
   "id": "fed800c3-5cd7-4f4c-99c3-bb12b07297ec",
   "metadata": {
    "tags": []
   },
   "outputs": [],
   "source": [
    "df_all = load_reviews()\n",
    "df_lang = load_reviews_lang()"
   ]
  },
  {
   "cell_type": "markdown",
   "id": "1191e526-bab8-4822-a2a1-63868ed3fd14",
   "metadata": {
    "tags": []
   },
   "source": [
    "## Sample Data"
   ]
  },
  {
   "cell_type": "code",
   "execution_count": 82,
   "id": "555f8caf-7e73-4b06-844c-ade00bf3e89a",
   "metadata": {},
   "outputs": [],
   "source": [
    "DIR_SAMPLE = '../data/samples/'\n",
    "PATH_REVSENTS = DIR_SAMPLE + 'review_sentiment/%s.csv'"
   ]
  },
  {
   "cell_type": "code",
   "execution_count": 235,
   "id": "fa998818-7e8f-4739-bd88-5d9f55b541f5",
   "metadata": {},
   "outputs": [],
   "source": [
    "def prepare_review_sentiment_data(df, N=10000, min_conf=0.7, long_words=50):\n",
    "    is_valid = df['nlp_words'] >= 1\n",
    "    is_english = (df['lang'] == 'en') & (df['confidence'] >= min_conf)\n",
    "    is_long = df['nlp_words'] >= long_words\n",
    "    # English only, equal polarities, any length\n",
    "    df[is_valid & is_english].groupby('polarity').sample(n=(N // 2)).to_csv(PATH_REVSENTS % f'eng_eq_any_{N}', index=False)\n",
    "    # English only, any polarity, any length\n",
    "    df[is_valid & is_english].sample(n=N).to_csv(PATH_REVSENTS % f'eng_any_any_{N}', index=False)\n",
    "    # English only, equal polarities, short\n",
    "    df[is_valid & is_english & ~is_long].groupby('polarity').sample(n=(N // 2)).to_csv(PATH_REVSENTS % f'eng_eq_short_{N}', index=False)\n",
    "    # English only, any polarity, short\n",
    "    df[is_valid & is_english & ~is_long].sample(n=N).to_csv(PATH_REVSENTS % f'eng_any_short_{N}', index=False)\n",
    "    # English only, equal polarities, long\n",
    "    df[is_valid & is_english & is_long].groupby('polarity').sample(n=(N // 2)).to_csv(PATH_REVSENTS % f'eng_eq_long_{N}', index=False)\n",
    "    # English only, any polarity, long\n",
    "    df[is_valid & is_english & is_long].sample(n=N).to_csv(PATH_REVSENTS % f'eng_any_long_{N}', index=False)\n",
    "    # Any language, equal polarities, any length\n",
    "    df[is_valid].groupby('polarity').sample(n=(N // 2)).to_csv(PATH_REVSENTS % f'any_eq_any_{N}', index=False)\n",
    "    # Any language, any polarity, any length\n",
    "    df[is_valid].sample(n=N).to_csv(PATH_REVSENTS % f'any_any_any_{N}', index=False)\n",
    "    # Any language, equal polarities, short\n",
    "    df[is_valid & ~is_long].groupby('polarity').sample(n=(N // 2)).to_csv(PATH_REVSENTS % f'any_eq_short_{N}', index=False)\n",
    "    # Any language, any polarity, short\n",
    "    df[is_valid & ~is_long].sample(n=N).to_csv(PATH_REVSENTS % f'any_any_short_{N}', index=False)\n",
    "    # Any language, equal polarities, long\n",
    "    df[is_valid & is_long].groupby('polarity').sample(n=(N // 2)).to_csv(PATH_REVSENTS % f'any_eq_long_{N}', index=False)\n",
    "    # Any language, any polarity, long\n",
    "    df[is_valid & is_long].sample(n=N).to_csv(PATH_REVSENTS % f'any_any_long_{N}', index=False)"
   ]
  },
  {
   "cell_type": "code",
   "execution_count": 236,
   "id": "a2560bc1-a313-4a8d-b434-5efe2a20ba59",
   "metadata": {},
   "outputs": [],
   "source": [
    "prepare_review_sentiment_data(df_lang, N=100000)"
   ]
  }
 ],
 "metadata": {
  "kernelspec": {
   "display_name": "Python 3 (ipykernel)",
   "language": "python",
   "name": "python3"
  },
  "language_info": {
   "codemirror_mode": {
    "name": "ipython",
    "version": 3
   },
   "file_extension": ".py",
   "mimetype": "text/x-python",
   "name": "python",
   "nbconvert_exporter": "python",
   "pygments_lexer": "ipython3",
   "version": "3.7.9"
  }
 },
 "nbformat": 4,
 "nbformat_minor": 5
}
