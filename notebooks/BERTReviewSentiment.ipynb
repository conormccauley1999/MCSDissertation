{
  "cells": [
    {
      "cell_type": "markdown",
      "source": [
        "# BERT Review Sentiment\n",
        "\n",
        "Testing out BERT by predicting the sentiment of ten thousand randomly sampled Steam reviews."
      ],
      "metadata": {
        "id": "9bkKxbueRhqN"
      }
    },
    {
      "cell_type": "code",
      "source": [
        "# mount google drive and load csv file\n",
        "from google.colab import drive\n",
        "drive.mount('/content/drive')\n",
        "\n"
      ],
      "metadata": {
        "id": "LuQft7QqRTrl"
      },
      "execution_count": null,
      "outputs": []
    }
  ],
  "metadata": {
    "interpreter": {
      "hash": "c033a5045b155981ee72213b5a792ae49fdd09af88109a854dac011f87e13240"
    },
    "kernelspec": {
      "display_name": "Python 3.7.9 64-bit",
      "language": "python",
      "name": "python3"
    },
    "language_info": {
      "codemirror_mode": {
        "name": "ipython",
        "version": 3
      },
      "file_extension": ".py",
      "mimetype": "text/x-python",
      "name": "python",
      "nbconvert_exporter": "python",
      "pygments_lexer": "ipython3",
      "version": "3.7.9"
    },
    "orig_nbformat": 4,
    "colab": {
      "name": "BERTReviewSentiment.ipynb",
      "provenance": []
    }
  },
  "nbformat": 4,
  "nbformat_minor": 0
}