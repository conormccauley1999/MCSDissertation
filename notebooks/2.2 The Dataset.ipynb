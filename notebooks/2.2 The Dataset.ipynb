{
 "cells": [
  {
   "cell_type": "markdown",
   "id": "89e44a2f-44ad-4ada-8ad8-89ae3e61b229",
   "metadata": {},
   "source": [
    "# 2.2 The Dataset\n",
    "\n",
    "Code used to run some sanity checks on the raw dataset for section 2.2 of the dissertation.\n",
    "\n",
    "## Setup\n",
    "\n",
    "The `json_lines` library will be used to parse the data files."
   ]
  },
  {
   "cell_type": "code",
   "execution_count": 10,
   "id": "dd93362c-8444-43dd-8650-38c086e7a799",
   "metadata": {},
   "outputs": [],
   "source": [
    "from json_lines import reader as jl_reader"
   ]
  },
  {
   "cell_type": "markdown",
   "id": "4f3fa0ba-90e5-4310-bc46-3fd4f7fb2b64",
   "metadata": {},
   "source": [
    "Both the friend and group data are stored in individual files. However, the review and review text data are divided between 524 different enumerated files."
   ]
  },
  {
   "cell_type": "code",
   "execution_count": 30,
   "id": "d0bb1d42-bb34-48af-bc75-8b9a0fca2481",
   "metadata": {},
   "outputs": [],
   "source": [
    "DIR = '../data/raw/'\n",
    "PATH_FRIENDS = DIR + 'friends.jl'\n",
    "PATH_GROUPS  = DIR + 'groups.jl'\n",
    "PATH_REVIEWS = DIR + 'reviews/review_page%d.jl'\n",
    "PATH_TEXTS   = DIR + 'reviews_text/reviewtext_page%d.jl'\n",
    "REVIEW_PAGES = 524"
   ]
  },
  {
   "cell_type": "markdown",
   "id": "ac9594ea-f8f9-4fb8-8ef1-2a711ab9f9f2",
   "metadata": {},
   "source": [
    "The following function will extract and return the unique integer value from a Steam profile URL string. This conversion will reduce the amount of memory used by the program and make it more efficicent."
   ]
  },
  {
   "cell_type": "code",
   "execution_count": 31,
   "id": "11510ebf-961b-47f8-b9de-f714534ec276",
   "metadata": {},
   "outputs": [],
   "source": [
    "def profile_str_to_int(profile):\n",
    "    return int(profile[16:])"
   ]
  },
  {
   "cell_type": "markdown",
   "id": "12b39f75-04d8-4176-b952-93f27bd181ca",
   "metadata": {
    "tags": []
   },
   "source": [
    "## Sanity Checks\n",
    "\n",
    "### User Consistency Check\n",
    "\n",
    "This check will iterate over every entry in all four sections of the dataset and attempt to ensure that every user with an entry in any one section of the dataset has entries in all four sections of the dataset. For example, if the dataset contains the friend list for a user then it should also contain their review, review text and group membership data."
   ]
  },
  {
   "cell_type": "code",
   "execution_count": 22,
   "id": "8d668ccd-be96-4da5-a511-4d2573404531",
   "metadata": {},
   "outputs": [],
   "source": [
    "def read_user_ids_from_file(path):\n",
    "    user_ids = set()\n",
    "    with open(path, 'rb') as f:\n",
    "        for entry in jl_reader(f):\n",
    "            user_ids.add(profile_str_to_int(entry['steamid']))\n",
    "    return user_ids\n",
    "\n",
    "friend_uids = read_user_ids_from_file(PATH_FRIENDS)\n",
    "group_uids = read_user_ids_from_file(PATH_GROUPS)\n",
    "review_uids = set()\n",
    "text_uids = set()\n",
    "for i in range(1, REVIEW_PAGES + 1):\n",
    "    review_uids |= read_user_ids_from_file(PATH_REVIEWS % i)\n",
    "    text_uids |= read_user_ids_from_file(PATH_TEXTS % i)"
   ]
  },
  {
   "cell_type": "code",
   "execution_count": 28,
   "id": "f904aa45-670f-4022-8a56-7641d49746ce",
   "metadata": {},
   "outputs": [],
   "source": [
    "combined_uids = friend_uids & group_uids & review_uids & text_uids"
   ]
  },
  {
   "cell_type": "code",
   "execution_count": 29,
   "id": "912de053-a54e-4b31-a284-1bff53d6bb54",
   "metadata": {},
   "outputs": [
    {
     "name": "stdout",
     "output_type": "stream",
     "text": [
      "Friends:  4000093\n",
      "Groups:   4183277\n",
      "Reviews:  4183276\n",
      "Texts:    4183276\n",
      "Combined: 4000033\n"
     ]
    }
   ],
   "source": [
    "print('Friends: ', len(friend_uids))\n",
    "print('Groups:  ', len(group_uids))\n",
    "print('Reviews: ', len(review_uids))\n",
    "print('Texts:   ', len(text_uids))\n",
    "print('Combined:', len(combined_uids))"
   ]
  }
 ],
 "metadata": {
  "kernelspec": {
   "display_name": "Python 3 (ipykernel)",
   "language": "python",
   "name": "python3"
  },
  "language_info": {
   "codemirror_mode": {
    "name": "ipython",
    "version": 3
   },
   "file_extension": ".py",
   "mimetype": "text/x-python",
   "name": "python",
   "nbconvert_exporter": "python",
   "pygments_lexer": "ipython3",
   "version": "3.7.9"
  }
 },
 "nbformat": 4,
 "nbformat_minor": 5
}
