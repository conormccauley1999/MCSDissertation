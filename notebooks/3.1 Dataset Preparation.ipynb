{
 "cells": [
  {
   "cell_type": "markdown",
   "id": "ca794046-8f09-4037-a37a-d85680ad40e9",
   "metadata": {},
   "source": [
    "# 3.1 Dataset Preparation\n",
    "\n",
    "Code used to convert the dataset from JSON Lines to CSV in section 3.1 of the dissertation."
   ]
  },
  {
   "cell_type": "markdown",
   "id": "f911991e-54f8-4623-b00f-a3af17c64712",
   "metadata": {
    "jp-MarkdownHeadingCollapsed": true,
    "tags": []
   },
   "source": [
    "## Setup\n",
    "\n",
    "The `csv` and `json_lines` libraries will be used to parse the data files."
   ]
  },
  {
   "cell_type": "code",
   "execution_count": 88,
   "id": "8747063c-c359-44ed-9252-7dc8c2c67b49",
   "metadata": {},
   "outputs": [],
   "source": [
    "from csv import writer as csv_writer\n",
    "from json_lines import reader as jl_reader"
   ]
  },
  {
   "cell_type": "markdown",
   "id": "f898df29-1de9-42a6-bfd9-b68e0366b9c0",
   "metadata": {},
   "source": [
    "The prepared friend and group data will be written to individual CSV files while the review data will be split into multiple files, each containing a maximum of 300,000 rows."
   ]
  },
  {
   "cell_type": "code",
   "execution_count": 92,
   "id": "28bec52c-1373-4028-97e3-b26d4e0e3ae9",
   "metadata": {},
   "outputs": [],
   "source": [
    "# raw data\n",
    "DIR_RAW  = '../data/raw/'\n",
    "PATH_FRIENDS_RAW = DIR_RAW + 'friends.jl'\n",
    "PATH_GROUPS_RAW  = DIR_RAW + 'groups.jl'\n",
    "PATH_REVIEWS_RAW = DIR_RAW + 'reviews/review_page%d.jl'\n",
    "PATH_TEXTS_RAW   = DIR_RAW + 'reviews_text/reviewtext_page%d.jl'\n",
    "REVIEW_PAGES = 524\n",
    "# prepared data\n",
    "DIR_PREP = '../data/prepared/'\n",
    "PATH_FRIENDS_PREP = DIR_PREP + 'friends.csv'\n",
    "PATH_GROUPS_PREP  = DIR_PREP + 'groups.csv'\n",
    "PATH_REVIEWS_PREP = DIR_PREP + 'reviews/%d.csv'\n",
    "ROWS_PER_PAGE = 300000"
   ]
  },
  {
   "cell_type": "markdown",
   "id": "44b2faa1-c44c-45e7-af5d-3ee419e9e8ba",
   "metadata": {},
   "source": [
    "Helper functions for converting user IDs and group names to simpler formats:"
   ]
  },
  {
   "cell_type": "code",
   "execution_count": 95,
   "id": "e86c1247-fd41-41f1-ac1b-bf8d0a72e04e",
   "metadata": {},
   "outputs": [],
   "source": [
    "def profile_str_to_int(profile):\n",
    "    return int(profile[16:])"
   ]
  },
  {
   "cell_type": "code",
   "execution_count": 105,
   "id": "fdc22e57-a500-4cc6-afac-a0633b384457",
   "metadata": {
    "tags": []
   },
   "outputs": [],
   "source": [
    "def group_str_to_name(group):\n",
    "    return group[34:]"
   ]
  },
  {
   "cell_type": "markdown",
   "id": "39471bb5-f89d-4842-b584-b2122cc7ed99",
   "metadata": {},
   "source": [
    "Helper function for writing data to CSV files:"
   ]
  },
  {
   "cell_type": "code",
   "execution_count": 97,
   "id": "84b66938-3475-4ca8-8ae4-2fd8532c763b",
   "metadata": {},
   "outputs": [],
   "source": [
    "def write_buffer(buffer, path, page_num=None):\n",
    "    if page_num is not None:\n",
    "        path = path % page_num\n",
    "    with open(path, 'w+', encoding='utf-8', newline='') as f:\n",
    "        writer = csv_writer(f, delimiter=',')\n",
    "        writer.writerows(buffer)"
   ]
  },
  {
   "cell_type": "markdown",
   "id": "1290a03c-e853-4e8d-8d53-85fc1b761355",
   "metadata": {
    "tags": []
   },
   "source": [
    "## Preparation Functions\n",
    "\n",
    "### Reviews"
   ]
  },
  {
   "cell_type": "code",
   "execution_count": 107,
   "id": "28953dae-cf22-44fb-8cde-a97f4fc909bf",
   "metadata": {
    "tags": []
   },
   "outputs": [],
   "source": [
    "def prepare_review_data():\n",
    "    # map of Steam IDs to custom counter\n",
    "    user_map = {}\n",
    "    user_map_counter = 0\n",
    "    # buffer and page setup\n",
    "    buffer = []\n",
    "    out_page_num = 1\n",
    "    for in_page_num in range(1, REVIEW_PAGES + 1):\n",
    "        # open files\n",
    "        fr = open(PATH_REVIEWS_RAW % in_page_num, 'rb')\n",
    "        ft = open(PATH_TEXTS_RAW % in_page_num, 'rb')\n",
    "        # iterate over both files simultaneously\n",
    "        for ir, it in zip(jl_reader(fr), jl_reader(ft)):\n",
    "            # convert Steam ID to counter value\n",
    "            user_int = profile_str_to_int(ir['steamid'])\n",
    "            if user_int not in user_map:\n",
    "                user_map[user_int] = user_map_counter\n",
    "                user_map_counter += 1\n",
    "            user_id = user_map[user_int]\n",
    "            for dr, dt in zip(ir['reviews'], it['reviews']):\n",
    "                data = [\n",
    "                    user_id,\n",
    "                    int(dr['appid']),\n",
    "                    int(dr['voted_up']),\n",
    "                    int(dr['early_access']),\n",
    "                    dr['playtime_forever'],\n",
    "                    dr['playtime_forever'],\n",
    "                    int(dr['tstamp_created']),\n",
    "                    int(dr['tstamp_created']),\n",
    "                    dr['votes_up'],\n",
    "                    dr['votes_funny'],\n",
    "                    dt['text']\n",
    "                ]\n",
    "                if 'playtime_atreview' in dr:\n",
    "                    data[5] = dr['playtime_atreview']\n",
    "                if 'tstamp_updated' in dr:\n",
    "                    data[7] = int(dr['tstamp_updated'])\n",
    "                buffer.append(data)\n",
    "        # write buffer(s)\n",
    "        while len(buffer) >= ROWS_PER_PAGE:\n",
    "            write_buffer(buffer[:ROWS_PER_PAGE], PATH_REVIEWS_PREP,\n",
    "                         page_num=out_page_num)\n",
    "            buffer = buffer[ROWS_PER_PAGE:]\n",
    "            out_page_num += 1\n",
    "        # close files\n",
    "        fr.close()\n",
    "        ft.close()\n",
    "    # write the remaining buffer\n",
    "    if len(buffer) > 0:\n",
    "        write_buffer(buffer, PATH_REVIEWS_PREP,\n",
    "                     page_num=out_page_num)\n",
    "    return user_map"
   ]
  },
  {
   "cell_type": "markdown",
   "id": "c15bdf2f-5ad4-41fa-917a-0b38a5e34554",
   "metadata": {
    "jp-MarkdownHeadingCollapsed": true,
    "tags": []
   },
   "source": [
    "### Friends"
   ]
  },
  {
   "cell_type": "code",
   "execution_count": 108,
   "id": "327cea66-8f1a-453d-b013-c8d67866fc4a",
   "metadata": {},
   "outputs": [],
   "source": [
    "def prepare_friend_data(user_map):\n",
    "    data = []\n",
    "    with open(PATH_FRIENDS_RAW, 'rb') as f:\n",
    "        for item in jl_reader(f):\n",
    "            user_int = profile_str_to_int(item['steamid'])\n",
    "            if user_int not in user_map: continue\n",
    "            row = [user_map[user_int]]\n",
    "            for friend in item['ids']:\n",
    "                friend_int = profile_str_to_int(friend)\n",
    "                if friend_int not in user_map: continue\n",
    "                row.append(user_map[friend_int])\n",
    "            data.append(row)\n",
    "    write_buffer(data, PATH_FRIENDS_PREP)"
   ]
  },
  {
   "cell_type": "markdown",
   "id": "ea86ba1c-2fa2-41d1-943e-3883a8a1bd69",
   "metadata": {
    "jp-MarkdownHeadingCollapsed": true,
    "tags": []
   },
   "source": [
    "### Groups"
   ]
  },
  {
   "cell_type": "code",
   "execution_count": 109,
   "id": "1de0b192-fc76-4835-84d7-e62f0b56a219",
   "metadata": {},
   "outputs": [],
   "source": [
    "def prepare_group_data(user_map):\n",
    "    group_map = {}\n",
    "    group_map_counter = 0\n",
    "    data = []\n",
    "    with open(PATH_GROUPS_RAW, 'rb') as f:\n",
    "        for item in jl_reader(f):\n",
    "            user_int = profile_str_to_int(item['steamid'])\n",
    "            if user_int not in user_map: continue\n",
    "            row = [user_map[user_int]]\n",
    "            for group in item['urls']:\n",
    "                group_name = group_str_to_name(group)\n",
    "                if group_name not in group_map:\n",
    "                    group_map[group_name] = group_map_counter\n",
    "                    group_map_counter += 1\n",
    "                row.append(group_map[group_name])\n",
    "            data.append(row)\n",
    "    write_buffer(data, PATH_GROUPS_PREP)"
   ]
  },
  {
   "cell_type": "markdown",
   "id": "198450e2-479e-4031-a837-5d047e83dbbe",
   "metadata": {
    "jp-MarkdownHeadingCollapsed": true,
    "tags": []
   },
   "source": [
    "## Preparing the Data"
   ]
  },
  {
   "cell_type": "code",
   "execution_count": 110,
   "id": "60a70aff-c39a-40d1-b06c-fa6c75ced14b",
   "metadata": {},
   "outputs": [],
   "source": [
    "user_map = prepare_review_data()"
   ]
  },
  {
   "cell_type": "code",
   "execution_count": 111,
   "id": "1bea6371-df1c-4def-adc7-7f87fe411a03",
   "metadata": {},
   "outputs": [],
   "source": [
    "prepare_friend_data(user_map)"
   ]
  },
  {
   "cell_type": "code",
   "execution_count": 112,
   "id": "9342e4fc-19ed-4375-b49d-91fba218edd2",
   "metadata": {},
   "outputs": [],
   "source": [
    "prepare_group_data(user_map)"
   ]
  }
 ],
 "metadata": {
  "kernelspec": {
   "display_name": "Python 3 (ipykernel)",
   "language": "python",
   "name": "python3"
  },
  "language_info": {
   "codemirror_mode": {
    "name": "ipython",
    "version": 3
   },
   "file_extension": ".py",
   "mimetype": "text/x-python",
   "name": "python",
   "nbconvert_exporter": "python",
   "pygments_lexer": "ipython3",
   "version": "3.7.9"
  }
 },
 "nbformat": 4,
 "nbformat_minor": 5
}
